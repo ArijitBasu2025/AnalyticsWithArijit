{
 "cells": [
  {
   "cell_type": "markdown",
   "id": "b57e45f6-a7f9-4e0c-8b1d-b9e8d17b5918",
   "metadata": {},
   "source": [
    "<h1>Section A: Basic Questions</h1>"
   ]
  },
  {
   "cell_type": "raw",
   "id": "2c7eec12-a6bb-4b78-82b2-44a3a6799472",
   "metadata": {},
   "source": [
    "1.Write a Python program to check if a number entered by the user is positive, negative, or zero."
   ]
  },
  {
   "cell_type": "code",
   "execution_count": 4,
   "id": "3a969492-df80-4aef-af3a-52d78288c013",
   "metadata": {},
   "outputs": [
    {
     "name": "stdin",
     "output_type": "stream",
     "text": [
      "Enter A number to check whether positive,negetive or zero -5\n"
     ]
    },
    {
     "name": "stdout",
     "output_type": "stream",
     "text": [
      "Your given -5 is Negetive\n"
     ]
    }
   ],
   "source": [
    "while True:\n",
    "    try:\n",
    "        number=int(input(\"Enter A number to check whether positive,negetive or zero\"))\n",
    "    except ValueError as ve:\n",
    "        print(\"Please Enter a number only\")\n",
    "        continue\n",
    "    else:\n",
    "        number_type=\"Positive\" if number>0 else(\"Negetive\" if number <0 else \"Zero\")\n",
    "        print(f\"Your given {number} is {number_type}\")\n",
    "        break"
   ]
  },
  {
   "cell_type": "raw",
   "id": "2bb9b99b-2d53-4ea1-9dab-ac8b9cac4ed3",
   "metadata": {},
   "source": [
    "2.Write a Python script to check whether a number is even or odd."
   ]
  },
  {
   "cell_type": "code",
   "execution_count": 9,
   "id": "f5f04185-0057-40b1-b4fa-6d5b190b1932",
   "metadata": {},
   "outputs": [
    {
     "name": "stdin",
     "output_type": "stream",
     "text": [
      "Enter A number to check whether positive,negetive or zero 14\n"
     ]
    },
    {
     "name": "stdout",
     "output_type": "stream",
     "text": [
      "Your given 14 is Even\n"
     ]
    }
   ],
   "source": [
    "while True:\n",
    "    try:\n",
    "        number=int(input(\"Enter A number to check whether positive,negetive or zero\"))\n",
    "    except ValueError as ve:\n",
    "        print(\"Please Enter a number only\")\n",
    "        continue\n",
    "    else:\n",
    "        number_type=\"Even\" if number%2==0 else \"Odd\"\n",
    "        print(f\"Your given {number} is {number_type}\")\n",
    "        break"
   ]
  },
  {
   "cell_type": "raw",
   "id": "d5acf217-aa17-47bf-9cbe-18f2f10eae77",
   "metadata": {},
   "source": [
    "3.Write a program that takes a user's age as input and checks if they are eligible to vote (age ≥ 18)."
   ]
  },
  {
   "cell_type": "code",
   "execution_count": 13,
   "id": "b8cb58b4-32aa-4e03-ba54-4057dfd949dc",
   "metadata": {},
   "outputs": [
    {
     "name": "stdin",
     "output_type": "stream",
     "text": [
      "Enter Your Age to check whether Eligible For Vote or Not -43\n"
     ]
    },
    {
     "name": "stdout",
     "output_type": "stream",
     "text": [
      "Enter Positive Integer number only\n"
     ]
    },
    {
     "name": "stdin",
     "output_type": "stream",
     "text": [
      "Enter Your Age to check whether Eligible For Vote or Not fgd\n"
     ]
    },
    {
     "name": "stdout",
     "output_type": "stream",
     "text": [
      "You Have entered wrong Data\n",
      "Enter Integer Number Only\n"
     ]
    },
    {
     "name": "stdin",
     "output_type": "stream",
     "text": [
      "Enter Your Age to check whether Eligible For Vote or Not !\n"
     ]
    },
    {
     "name": "stdout",
     "output_type": "stream",
     "text": [
      "You Have entered wrong Data\n",
      "Enter Integer Number Only\n"
     ]
    },
    {
     "name": "stdin",
     "output_type": "stream",
     "text": [
      "Enter Your Age to check whether Eligible For Vote or Not 45\n"
     ]
    },
    {
     "name": "stdout",
     "output_type": "stream",
     "text": [
      "You are Eligible for Vote\n"
     ]
    }
   ],
   "source": [
    "while True:\n",
    "    try:\n",
    "        age=int(input(\"Enter Your Age to check whether Eligible For Vote or Not\"))\n",
    "    except ValueError as ve:\n",
    "        print(\"You Have entered wrong Data\")\n",
    "        print(\"Enter Integer Number Only\")\n",
    "        continue\n",
    "    else:\n",
    "        try:\n",
    "            if age<0:\n",
    "                raise Exception\n",
    "            else:    \n",
    "                valid_age=\"Eligible\" if age>=18 else \"Not Eligible\"\n",
    "                print(f\"You are {valid_age} for Vote\")\n",
    "                break\n",
    "        except:\n",
    "            print(\"Enter Positive Integer number only\")\n",
    "            continue"
   ]
  },
  {
   "cell_type": "raw",
   "id": "4e2caa49-ebb3-4003-996c-41688b5408c3",
   "metadata": {},
   "source": [
    "4.Accept a number from the user and check whether it is divisible by 5 and 7 both."
   ]
  },
  {
   "cell_type": "code",
   "execution_count": 17,
   "id": "c9ec5ee4-e83b-48a0-8683-91913eda82e7",
   "metadata": {},
   "outputs": [
    {
     "name": "stdin",
     "output_type": "stream",
     "text": [
      "Enter a number to check whether divisible by both 5 and 7 or not 140\n"
     ]
    },
    {
     "name": "stdout",
     "output_type": "stream",
     "text": [
      "Your 140 is Divisible by both 5 and 7\n"
     ]
    }
   ],
   "source": [
    "while True:\n",
    "    try:\n",
    "        number=int(input(\"Enter a number to check whether divisible by both 5 and 7 or not\" ))\n",
    "    except ValueError:\n",
    "        print(\"Enter Numbers Only\")\n",
    "        continue\n",
    "    else:\n",
    "        chk_variable=\"Divisible\" if (number%5==0 and number%7==0) else \"Not Divisible\"\n",
    "        print(f\"Your {number} is {chk_variable} by both 5 and 7\")\n",
    "        break\n"
   ]
  },
  {
   "cell_type": "raw",
   "id": "87a52a78-bc9d-4fff-904d-8cb060be477b",
   "metadata": {},
   "source": [
    "5. Ask the user to enter a character and check whether it's a vowel or consonant."
   ]
  },
  {
   "cell_type": "code",
   "execution_count": 20,
   "id": "d57b9a03-4342-498f-96e3-51e7741fb81f",
   "metadata": {},
   "outputs": [
    {
     "name": "stdin",
     "output_type": "stream",
     "text": [
      "Enter a character to check vowel or consonent *\n"
     ]
    },
    {
     "name": "stdout",
     "output_type": "stream",
     "text": [
      "Enter a character between Either a-z or A-Z\n"
     ]
    },
    {
     "name": "stdin",
     "output_type": "stream",
     "text": [
      "Enter a character to check vowel or consonent 9\n"
     ]
    },
    {
     "name": "stdout",
     "output_type": "stream",
     "text": [
      "Enter a character between Either a-z or A-Z\n"
     ]
    },
    {
     "name": "stdin",
     "output_type": "stream",
     "text": [
      "Enter a character to check vowel or consonent -5\n"
     ]
    },
    {
     "name": "stdout",
     "output_type": "stream",
     "text": [
      "Enter a character between Either a-z or A-Z\n"
     ]
    },
    {
     "name": "stdin",
     "output_type": "stream",
     "text": [
      "Enter a character to check vowel or consonent 4.6\n"
     ]
    },
    {
     "name": "stdout",
     "output_type": "stream",
     "text": [
      "Enter a character between Either a-z or A-Z\n"
     ]
    },
    {
     "name": "stdin",
     "output_type": "stream",
     "text": [
      "Enter a character to check vowel or consonent F\n"
     ]
    },
    {
     "name": "stdout",
     "output_type": "stream",
     "text": [
      "Your given F is a Consonent\n"
     ]
    }
   ],
   "source": [
    "while True:\n",
    "    try:\n",
    "        character=input(\"Enter a character to check vowel or consonent\")\n",
    "        if not((ord(character)>=97 and ord(character)<=122) or (ord(character)>=65 and ord(character)<=90)):\n",
    "            raise Exception\n",
    "    except:\n",
    "        print(\"Enter a character between Either a-z or A-Z\")\n",
    "        continue\n",
    "    else:\n",
    "        vowel_list=[\"a\",\"e\",\"i\",\"o\",\"u\"]\n",
    "        character_type=\"Vowel\" if character.lower() in vowel_list else \"Consonent\"\n",
    "        print(f\"Your given {character} is a {character_type}\")\n",
    "        break"
   ]
  },
  {
   "cell_type": "markdown",
   "id": "9eb0a94c-7388-4dd0-96dd-82f95ddb437c",
   "metadata": {},
   "source": [
    "<h1>Section B: If-Elif-Else Practice</h1>"
   ]
  },
  {
   "cell_type": "raw",
   "id": "84a525dc-7fdb-4053-8706-c7d8fc4dd772",
   "metadata": {},
   "source": [
    "6.Write a Python program to input marks of a student and display the grade:\n",
    "90-100: A+\n",
    "80-89: A\n",
    "70-79: B\n",
    "60-69: C\n",
    "Below 60: F"
   ]
  },
  {
   "cell_type": "code",
   "execution_count": 28,
   "id": "d2d293ae-20eb-42b6-b5e1-3b483de932db",
   "metadata": {},
   "outputs": [
    {
     "name": "stdin",
     "output_type": "stream",
     "text": [
      "Enter nmarks of a student j\n"
     ]
    },
    {
     "name": "stdout",
     "output_type": "stream",
     "text": [
      "Enter Numbers Only\n"
     ]
    },
    {
     "name": "stdin",
     "output_type": "stream",
     "text": [
      "Enter nmarks of a student 107\n"
     ]
    },
    {
     "name": "stdout",
     "output_type": "stream",
     "text": [
      "Enter Number Between 0 to 100 only\n"
     ]
    },
    {
     "name": "stdin",
     "output_type": "stream",
     "text": [
      "Enter nmarks of a student -6\n"
     ]
    },
    {
     "name": "stdout",
     "output_type": "stream",
     "text": [
      "Enter Positive Numbers Only\n"
     ]
    },
    {
     "name": "stdin",
     "output_type": "stream",
     "text": [
      "Enter nmarks of a student 76\n"
     ]
    },
    {
     "name": "stdout",
     "output_type": "stream",
     "text": [
      "You Enterd 76 marks and it is B\n"
     ]
    }
   ],
   "source": [
    "while True:\n",
    "    try:\n",
    "        number=int(input(\"Enter nmarks of a student\"))\n",
    "    except ValueError:\n",
    "        print(\"Enter Numbers Only\")\n",
    "        continue\n",
    "    else:\n",
    "        try:\n",
    "            if number <0:\n",
    "                raise Exception(\"Enter Positive Numbers Only\")\n",
    "                continue\n",
    "            elif number>100:\n",
    "                raise Exception(\"Enter Number Between 0 to 100 only\")\n",
    "            else:\n",
    "                grade=\"A+\" if number>=90 else(\"A\" if number >=80 else(\"B\" if number>=70 else(\"C\" if number>=60 else \"Fail\")))\n",
    "                print(f\"You Enterd {number} marks and it is {grade}\")\n",
    "                break\n",
    "        except Exception as e:\n",
    "            print(e)\n",
    "            continue\n",
    "         \n",
    "                "
   ]
  },
  {
   "cell_type": "raw",
   "id": "ef417366-7764-42cd-a816-f27dcb78ac48",
   "metadata": {},
   "source": [
    "7.Accept a number and print whether it is:\n",
    "oPositive and Even\n",
    "oPositive and Odd\n",
    "oNegative\n",
    "oZero"
   ]
  },
  {
   "cell_type": "code",
   "execution_count": 32,
   "id": "2965e3cd-db45-4974-a747-4c1df9768cd7",
   "metadata": {},
   "outputs": [
    {
     "name": "stdin",
     "output_type": "stream",
     "text": [
      "Enter a Number 6\n"
     ]
    },
    {
     "name": "stdout",
     "output_type": "stream",
     "text": [
      "Your enterd Number 6 is Positive Even\n"
     ]
    }
   ],
   "source": [
    "while True:\n",
    "    try:\n",
    "        value=int(input(\"Enter a Number\"))\n",
    "    except ValueError:\n",
    "        print(\"Enter Numbers Only\")\n",
    "        continue\n",
    "    else:\n",
    "        if value==0:\n",
    "            print(f\"Your enterd number {value} is Zero\")\n",
    "            break\n",
    "        elif value<0:\n",
    "            print(f\"Your Enterd number {value} is Negetive\")\n",
    "            break\n",
    "        else:\n",
    "            if value%2==0:\n",
    "                print(f\"Your enterd Number {value} is Positive Even\")\n",
    "                break\n",
    "            else:\n",
    "                print(f\"Your enterd Number {value} is Positive Odd\")\n",
    "                break"
   ]
  },
  {
   "cell_type": "raw",
   "id": "46578888-2509-4351-abad-1927e4c87497",
   "metadata": {},
   "source": [
    "8.A shop gives discount based on purchase amount:\n",
    "oIf amount > 5000: 20% discount\n",
    "oIf amount between 3000 and 5000: 10% discount\n",
    "oElse: No discount Write a program that accepts bill amount and displays the net amount to be paid after discount."
   ]
  },
  {
   "cell_type": "code",
   "execution_count": 35,
   "id": "a87d8f59-1353-4ee0-9bd2-97641f999d15",
   "metadata": {},
   "outputs": [
    {
     "name": "stdin",
     "output_type": "stream",
     "text": [
      "Enter the amount 3500\n"
     ]
    },
    {
     "name": "stdout",
     "output_type": "stream",
     "text": [
      "Amount Given:3500 and discounted_amount:350.0, Net_Amount:3150.0\n"
     ]
    }
   ],
   "source": [
    "while True:\n",
    "    try:\n",
    "        amount=int(input(\"Enter the amount\"))\n",
    "    except ValueError:\n",
    "        print(\"Enter Numbers Only\")\n",
    "        continue\n",
    "    else:\n",
    "        try:\n",
    "            if amount<0:\n",
    "                raise Exception(\"Enterd Positive Amount Only\")\n",
    "            else:\n",
    "                if amount>5000:\n",
    "                    discount=amount*0.20\n",
    "                    print(f\"Amount Given:{amount} and discounted_amount:{discount}, Net_Amount:{amount-discount}\")\n",
    "                    break\n",
    "                elif amount>=3000:\n",
    "                    discount=amount*0.10\n",
    "                    print(f\"Amount Given:{amount} and discounted_amount:{discount}, Net_Amount:{amount-discount}\")\n",
    "                    break\n",
    "                else:\n",
    "                    discount=0\n",
    "                    print(f\"Amount Given:{amount} and discounted_amount:{discount}, Net_Amount:{amount-discount}\")\n",
    "                    break\n",
    "        except Exception as e:\n",
    "            print(e)\n",
    "            continue"
   ]
  },
  {
   "cell_type": "raw",
   "id": "0c125c89-db35-47b1-8fcb-a3fe38b8a5b3",
   "metadata": {},
   "source": [
    "9.Take input for a day number (1 to 7) and display the corresponding weekday using if-elif-else."
   ]
  },
  {
   "cell_type": "code",
   "execution_count": 36,
   "id": "ae9aaf8a-e688-46de-bcef-8933351bfe1e",
   "metadata": {},
   "outputs": [
    {
     "name": "stdin",
     "output_type": "stream",
     "text": [
      "Enter a day number between 1 to 7 only d\n"
     ]
    },
    {
     "name": "stdout",
     "output_type": "stream",
     "text": [
      "Enter Numbers Only\n"
     ]
    },
    {
     "name": "stdin",
     "output_type": "stream",
     "text": [
      "Enter a day number between 1 to 7 only -9\n"
     ]
    },
    {
     "name": "stdout",
     "output_type": "stream",
     "text": [
      "Enter Day number between 1 to 7 only\n"
     ]
    },
    {
     "name": "stdin",
     "output_type": "stream",
     "text": [
      "Enter a day number between 1 to 7 only 100\n"
     ]
    },
    {
     "name": "stdout",
     "output_type": "stream",
     "text": [
      "Enter Day number between 1 to 7 only\n"
     ]
    },
    {
     "name": "stdin",
     "output_type": "stream",
     "text": [
      "Enter a day number between 1 to 7 only 5\n"
     ]
    },
    {
     "name": "stdout",
     "output_type": "stream",
     "text": [
      "Friday\n"
     ]
    }
   ],
   "source": [
    "while True:\n",
    "    try:\n",
    "        day=int(input(\"Enter a day number between 1 to 7 only\"))\n",
    "    except ValueError:\n",
    "        print(\"Enter Numbers Only\")\n",
    "        continue\n",
    "    else:\n",
    "        try:\n",
    "            if day<0 or day>7:\n",
    "                raise Exception(\"Enter Day number between 1 to 7 only\")\n",
    "            elif type(day)!=int:\n",
    "                raise Exception(\"Enter integer values only\")\n",
    "            else:\n",
    "                if day==1:\n",
    "                    print(\"Monday\")\n",
    "                    break\n",
    "                elif day==2:\n",
    "                    print(\"Tuesday\")\n",
    "                    break\n",
    "                elif day==3:\n",
    "                    print(\"Wednesday\")\n",
    "                    break\n",
    "                elif day==4:\n",
    "                    print(\"Thursday\")\n",
    "                    break\n",
    "                elif day==5:\n",
    "                    print(\"Friday\")\n",
    "                    break\n",
    "                elif day==6:\n",
    "                    print(\"Saturday\")\n",
    "                    break\n",
    "                else:\n",
    "                    print(\"Sunday\")\n",
    "                    break\n",
    "        except Exception as e:\n",
    "            print(e)\n",
    "            continue\n",
    "            \n",
    "        \n",
    "    "
   ]
  },
  {
   "cell_type": "raw",
   "id": "77523366-74b0-4839-a4a5-f064878e3de2",
   "metadata": {},
   "source": [
    "10.Take a 3-digit number from the user and check whether it is an Armstrong number or not."
   ]
  },
  {
   "cell_type": "code",
   "execution_count": 40,
   "id": "5a49582f-c06c-4a4e-91da-fd207b035794",
   "metadata": {},
   "outputs": [
    {
     "name": "stdin",
     "output_type": "stream",
     "text": [
      "Enter 3 digit number to check amstrong or not -9\n"
     ]
    },
    {
     "name": "stdout",
     "output_type": "stream",
     "text": [
      "Enter Positive  3 digit number only\n"
     ]
    },
    {
     "name": "stdin",
     "output_type": "stream",
     "text": [
      "Enter 3 digit number to check amstrong or not g\n"
     ]
    },
    {
     "name": "stdout",
     "output_type": "stream",
     "text": [
      "Enter 3 digit numbers only\n"
     ]
    },
    {
     "name": "stdin",
     "output_type": "stream",
     "text": [
      "Enter 3 digit number to check amstrong or not 23\n"
     ]
    },
    {
     "name": "stdout",
     "output_type": "stream",
     "text": [
      "Enter 3 digit number only\n"
     ]
    },
    {
     "name": "stdin",
     "output_type": "stream",
     "text": [
      "Enter 3 digit number to check amstrong or not 153\n"
     ]
    },
    {
     "name": "stdout",
     "output_type": "stream",
     "text": [
      "Amstrong Number\n"
     ]
    }
   ],
   "source": [
    "while True:\n",
    "    try:\n",
    "        number=int(input(\"Enter 3 digit number to check amstrong or not\"))\n",
    "    except ValueError:\n",
    "        print(\"Enter 3 digit numbers only\")\n",
    "        continue\n",
    "    else:\n",
    "        try:\n",
    "            if number<0:\n",
    "                raise Exception(\"Enter Positive  3 digit number only\")\n",
    "            elif len(str(number))!=3:\n",
    "                raise Exception(\"Enter 3 digit number only\")\n",
    "            else:\n",
    "                sum_value=0\n",
    "                for digit in str(number):\n",
    "                    sum_value+=int(digit)**3\n",
    "                if number==sum_value:\n",
    "                    print(\"Amstrong Number\")\n",
    "                    break\n",
    "                else:\n",
    "                    print(\"Not Amstrong Number\")\n",
    "                    break\n",
    "        except Exception as e:\n",
    "            print(e)\n",
    "            continue"
   ]
  },
  {
   "cell_type": "markdown",
   "id": "8bf4b5dc-772e-4cea-b4f7-bf9c4d3e04a8",
   "metadata": {},
   "source": [
    "<h1>Section C: Real-Life Scenario Based</h1>"
   ]
  },
  {
   "cell_type": "raw",
   "id": "79a54180-72cd-4856-8b36-3e42d7a28935",
   "metadata": {},
   "source": [
    "11.A company wants to calculate bonus for employees based on their years of service:\n",
    "•If service > 10 years: 10% bonus\n",
    "•If service between 5 and 10 years: 5% bonus\n",
    "•If service < 5 years: 2% bonus Accept salary and years of service and calculate the bonus."
   ]
  },
  {
   "cell_type": "code",
   "execution_count": 5,
   "id": "e30823d9-d968-4bcf-8746-289a3aa3b098",
   "metadata": {},
   "outputs": [
    {
     "name": "stdin",
     "output_type": "stream",
     "text": [
      "Enter Year of Service -7\n"
     ]
    },
    {
     "name": "stdout",
     "output_type": "stream",
     "text": [
      "Please Enter Positive Numbers Only\n"
     ]
    },
    {
     "name": "stdin",
     "output_type": "stream",
     "text": [
      "Enter Year of Service h\n"
     ]
    },
    {
     "name": "stdout",
     "output_type": "stream",
     "text": [
      "Please Enter Integer Numbers only\n"
     ]
    },
    {
     "name": "stdin",
     "output_type": "stream",
     "text": [
      "Enter Year of Service 4.2\n"
     ]
    },
    {
     "name": "stdout",
     "output_type": "stream",
     "text": [
      "years of service :4.2 and bonus is 2%\n"
     ]
    }
   ],
   "source": [
    "while True:\n",
    "    try:\n",
    "        service=float(input(\"Enter Year of Service\"))\n",
    "    except ValueError:\n",
    "        print(\"Please Enter Integer Numbers only\")\n",
    "        continue\n",
    "    else:\n",
    "        try:\n",
    "            if service<=0:\n",
    "                raise Exception(\"Please Enter Positive Numbers Only\")\n",
    "            else:\n",
    "                bonus=\"2%\" if service<5 else(\"5%\" if service <=10 else \"10%\")\n",
    "                print(f\"years of service :{service} and bonus is {bonus}\")\n",
    "                break\n",
    "        except Exception as e:\n",
    "            print(e)\n",
    "            continue\n",
    "        "
   ]
  },
  {
   "cell_type": "raw",
   "id": "e54bfa6e-84a1-4120-8c87-5a366e49e1d4",
   "metadata": {},
   "source": [
    "12.A train ticket is given based on age:\n",
    "•Age < 5: Free\n",
    "•Age 5-12: Child Fare\n",
    "•Age 13-60: Adult Fare\n",
    "•Above 60: Senior Citizen Fare Write a program to print the fare category based on age."
   ]
  },
  {
   "cell_type": "code",
   "execution_count": 16,
   "id": "9efdad8c-09b5-4979-9440-04b2824fb93c",
   "metadata": {},
   "outputs": [
    {
     "name": "stdin",
     "output_type": "stream",
     "text": [
      "Enter age of passenger 65\n"
     ]
    },
    {
     "name": "stdout",
     "output_type": "stream",
     "text": [
      "Age :65 and fare_category is Senior Citizen\n"
     ]
    }
   ],
   "source": [
    "while True:\n",
    "    try:\n",
    "        age=int(input(\"Enter age of passenger\"))\n",
    "    except ValueError:\n",
    "        print(\"Please Enter Integer age value only\")\n",
    "        continue\n",
    "    else:\n",
    "        try:\n",
    "            if age<=0:\n",
    "                raise Exception(\"Please Enter Positive age value Only\")\n",
    "            else:\n",
    "                ticket_category=\"Free\" if age<5 else(\"Child Fare\" if age <=12 else(\"Adult Fare\" if age <60 else \"Senior Citizen\"))\n",
    "                print(f\"Age :{age} and fare_category is {ticket_category}\")\n",
    "                break\n",
    "        except Exception as e:\n",
    "            print(e)\n",
    "            continue"
   ]
  },
  {
   "cell_type": "raw",
   "id": "07d5bbf5-4d91-4660-9319-8a79736206a1",
   "metadata": {},
   "source": [
    "13.Create a basic login system:\n",
    "•Ask user for username and password\n",
    "•If both match predefined values, print \"Login Successful\"\n",
    "•Else print \"Invalid Credentials\""
   ]
  },
  {
   "cell_type": "code",
   "execution_count": 26,
   "id": "6e067fc3-a91a-4aeb-ada3-29a079da33b9",
   "metadata": {},
   "outputs": [
    {
     "name": "stdin",
     "output_type": "stream",
     "text": [
      "Enter the Username \n",
      "Enter the password \n"
     ]
    },
    {
     "name": "stdout",
     "output_type": "stream",
     "text": [
      "Invalid Credential,2 attempt left\n"
     ]
    },
    {
     "name": "stdin",
     "output_type": "stream",
     "text": [
      "Enter the Username \n",
      "Enter the password \n"
     ]
    },
    {
     "name": "stdout",
     "output_type": "stream",
     "text": [
      "Invalid Credential,1 attempt left\n"
     ]
    },
    {
     "name": "stdin",
     "output_type": "stream",
     "text": [
      "Enter the Username \n",
      "Enter the password \n"
     ]
    },
    {
     "name": "stdout",
     "output_type": "stream",
     "text": [
      "Invalid Credential,0 attempt left\n",
      "Attempt Over\n"
     ]
    }
   ],
   "source": [
    "count_attempt=0\n",
    "user_name=\"user_001\"\n",
    "password=\"pass_001\"\n",
    "while count_attempt<3:\n",
    "    try:\n",
    "        user=input(\"Enter the Username\")\n",
    "        pwd=input(\"Enter the password\")\n",
    "    except Exception:\n",
    "        print(\"Unxpected Error Occurred\")\n",
    "        continue\n",
    "    \n",
    "    count_attempt+=1\n",
    "    \n",
    "    if user==user_name and pwd==password:\n",
    "        print(\"Login Successful\")\n",
    "        break\n",
    "    else:\n",
    "        print(f\"Invalid Credential,{3-count_attempt} attempt left\")\n",
    "        if count_attempt==3:\n",
    "            print(\"Attempt Over\")\n",
    "            break\n",
    "        else:\n",
    "            continue  \n",
    "        \n",
    "            "
   ]
  },
  {
   "cell_type": "raw",
   "id": "7f3c0f44-5d88-45ee-9730-af39de4ee81c",
   "metadata": {},
   "source": [
    "14.Ask the user to enter temperature and display the message:\n",
    "•< 0°C: Freezing Cold\n",
    "•0°C to 15°C: Cold\n",
    "•16°C to 25°C: Pleasant\n",
    "•25°C: Hot"
   ]
  },
  {
   "cell_type": "code",
   "execution_count": 30,
   "id": "0d5df0a5-d85c-47b9-a66c-f8cac7aac2d5",
   "metadata": {},
   "outputs": [
    {
     "name": "stdin",
     "output_type": "stream",
     "text": [
      "Enter temperature value 15.8\n"
     ]
    },
    {
     "name": "stdout",
     "output_type": "stream",
     "text": [
      "Temperature Given:15.8,Condition:Pleasant\n"
     ]
    }
   ],
   "source": [
    "while True:\n",
    "    try:\n",
    "        temp=float(input(\"Enter temperature value\"))\n",
    "    except ValueError:\n",
    "        print(\"Give input numbers only\")\n",
    "        continue\n",
    "    else:\n",
    "        condition=\"Freezing cold\" if temp<0 else(\"Cold\" if temp<=15 else(\"Pleasant\" if temp<=25 else \"Hot\"))\n",
    "        print(f\"Temperature Given:{temp},Condition:{condition}\")\n",
    "        break"
   ]
  },
  {
   "cell_type": "raw",
   "id": "738e7f1d-e416-4359-9d17-12f51583b8e4",
   "metadata": {},
   "source": [
    "15.Ask the user for a year and check whether it is a leap year or not."
   ]
  },
  {
   "cell_type": "code",
   "execution_count": 4,
   "id": "ac26e245-77d1-4f11-9f7a-b56fd991a71d",
   "metadata": {},
   "outputs": [
    {
     "name": "stdin",
     "output_type": "stream",
     "text": [
      "Enter the Year to be checked for leap year or not 1700\n"
     ]
    },
    {
     "name": "stdout",
     "output_type": "stream",
     "text": [
      "Non Leap Year\n"
     ]
    }
   ],
   "source": [
    "while True:\n",
    "    try:\n",
    "        year=int(input(\"Enter the Year to be checked for leap year or not\"))\n",
    "    except ValueError:\n",
    "        print(\"Enter Integer Values only\")\n",
    "    else:\n",
    "        try:\n",
    "            if year<=0:\n",
    "                raise Exception(\"Enter Positive values Only For the year to be checked\")\n",
    "            else:\n",
    "                if year%100==0:\n",
    "                    if year%400==0:\n",
    "                        print(\"Leap Year\")\n",
    "                        break\n",
    "                    else:\n",
    "                        print(\"Non Leap Year\")\n",
    "                        break\n",
    "                else:\n",
    "                    if year%4==0:\n",
    "                        print(\"Leap Year\")\n",
    "                        break\n",
    "                    else:\n",
    "                        print(\"Non Leap Year\")\n",
    "                        break\n",
    "        except Exception as e:\n",
    "            print(e)\n",
    "            continue\n",
    "        "
   ]
  },
  {
   "cell_type": "raw",
   "id": "2361b489-c7e3-4cfb-8260-fdf3faf31c84",
   "metadata": {},
   "source": [
    "16.Write a program that takes marks in 3 subjects and:\n",
    "•If average is ≥ 40 and no subject has marks < 33 → Print “Pass”\n",
    "•Else → Print “Fail”"
   ]
  },
  {
   "cell_type": "code",
   "execution_count": 24,
   "id": "0cf61d20-246d-48b1-8432-252cbca8eddd",
   "metadata": {},
   "outputs": [
    {
     "name": "stdin",
     "output_type": "stream",
     "text": [
      "Enter marks for subject-1:- 4\n",
      "Enter marks for subject-2:- 67\n",
      "Enter marks for subject-3:- 89\n"
     ]
    },
    {
     "name": "stdout",
     "output_type": "stream",
     "text": [
      "average_marks:53.33\n",
      "Fail-atleast one subject marks less than 33 or Average marks<40 \n"
     ]
    }
   ],
   "source": [
    "while True:\n",
    "    try:\n",
    "       sub_marks=[]\n",
    "       for count in range(1,4):\n",
    "           sub_marks.append(float(input(f\"Enter marks for subject-{count}:-\")))\n",
    "    except ValueError:\n",
    "        print(\"Enter Numbers only\")\n",
    "        continue\n",
    "    else:\n",
    "        try:\n",
    "            sum_value=0\n",
    "            if any(num<0 for num in sub_marks):\n",
    "                raise Exception(\"Enter Positive values only\")\n",
    "            else:\n",
    "                for item in sub_marks:\n",
    "                    sum_value+=item \n",
    "                #print(sum_value)\n",
    "                print(f\"average_marks:{round((sum_value/3),2)}\")\n",
    "                flag=0\n",
    "                for items in sub_marks:\n",
    "                    if items<33:\n",
    "                        flag=1\n",
    "                        break\n",
    "\n",
    "                if sum_value/3 >=40 and flag!=1:\n",
    "                    print(\"pass\")\n",
    "                else:\n",
    "                    print(\"Fail-atleast one subject marks less than 33 or Average marks<40 \")\n",
    "                    \n",
    "                break\n",
    "            \n",
    "        except Exception as e:\n",
    "            print(e)\n",
    "            continue\n",
    "                "
   ]
  },
  {
   "cell_type": "raw",
   "id": "1a7f8357-1763-4775-b208-adb2117e5ab0",
   "metadata": {},
   "source": [
    "17.Accept three numbers and check:\n",
    "•Which one is largest\n",
    "•And whether the largest number is even or odd"
   ]
  },
  {
   "cell_type": "code",
   "execution_count": 34,
   "id": "35c5b74b-80eb-4400-982a-f58d0c4aa81e",
   "metadata": {},
   "outputs": [
    {
     "name": "stdin",
     "output_type": "stream",
     "text": [
      "Enter number1:- 98\n",
      "Enter number2:- 102\n",
      "Enter number3:- 34\n"
     ]
    },
    {
     "name": "stdout",
     "output_type": "stream",
     "text": [
      "Maximum value 102\n",
      "Even Number\n"
     ]
    }
   ],
   "source": [
    "while True:\n",
    "    try:\n",
    "        number_val=[]\n",
    "        for item in range(1,4):\n",
    "            number_val.append(int(input(f\"Enter number{item}:-\")))\n",
    "    except Exception:\n",
    "        print(\"Give Integer inputs only\")\n",
    "        continue\n",
    "    else:\n",
    "        a,b,c=number_val[0],number_val[1],number_val[2]\n",
    "        if a>=b and a>=c:\n",
    "            max_value=a\n",
    "            print(f\"Maximum value {a}\")\n",
    "        else:\n",
    "            if b>=c:\n",
    "                max_value=b\n",
    "                print(f\"Maximum value {b}\")\n",
    "            else:\n",
    "                max_value=c\n",
    "                print(f\"Maximum value {c}\")\n",
    "\n",
    "        if max_value%2==0:\n",
    "            print(\"Even Number\")\n",
    "            break\n",
    "        else:\n",
    "            print(\"Odd Number\")\n",
    "            break\n",
    "        \n",
    "            "
   ]
  }
 ],
 "metadata": {
  "kernelspec": {
   "display_name": "Python 3 (ipykernel)",
   "language": "python",
   "name": "python3"
  },
  "language_info": {
   "codemirror_mode": {
    "name": "ipython",
    "version": 3
   },
   "file_extension": ".py",
   "mimetype": "text/x-python",
   "name": "python",
   "nbconvert_exporter": "python",
   "pygments_lexer": "ipython3",
   "version": "3.12.7"
  }
 },
 "nbformat": 4,
 "nbformat_minor": 5
}
