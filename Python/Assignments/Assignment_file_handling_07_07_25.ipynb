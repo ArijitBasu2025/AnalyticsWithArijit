{
 "cells": [
  {
   "cell_type": "raw",
   "id": "be2d4dd9-107c-4822-ab10-719f5a803e02",
   "metadata": {},
   "source": [
    "2. Create and write to a text file\n",
    "\n",
    "Write a Python program that:\n",
    "Creates a file named my_notes.txt\n",
    "\n",
    "Writes the following lines:\n",
    "Python is powerful.\n",
    "Practice makes perfect."
   ]
  },
  {
   "cell_type": "code",
   "execution_count": 1,
   "id": "a8d04429-0cfd-4772-bf06-477be91b7a9b",
   "metadata": {},
   "outputs": [],
   "source": [
    "file_name='my_notes.txt'\n",
    "content='''Python is powerful.\n",
    "Practice makes perfect.'''\n",
    "try:\n",
    "    with open(file_name,'w') as file_write:\n",
    "        file_write.write(content)\n",
    "except Exception as e:\n",
    "    print(\"There is an error\",e)\n",
    "    "
   ]
  },
  {
   "cell_type": "raw",
   "id": "01aa5137-2e87-44f2-b9ab-5769c4c05a7e",
   "metadata": {},
   "source": [
    "3. Read the content of the file\n",
    "Read and display the content from my_notes.txt."
   ]
  },
  {
   "cell_type": "code",
   "execution_count": 5,
   "id": "0f00d2eb-ebd2-42ca-a0f5-8ef1af522019",
   "metadata": {},
   "outputs": [
    {
     "name": "stdout",
     "output_type": "stream",
     "text": [
      "my_notes.txt has the following Content:\n",
      "Python is powerful.\n",
      "Practice makes perfect.\n"
     ]
    }
   ],
   "source": [
    "file_name='my_notes.txt'\n",
    "try:\n",
    "    with open(file_name,'r') as file_read:\n",
    "        file_content=file_read.read()\n",
    "except Exception:\n",
    "    print(\"File_not _present\")\n",
    "else:\n",
    "    print(f\"{file_name} has the following Content:\")\n",
    "    print(file_content)\n",
    "        "
   ]
  },
  {
   "cell_type": "raw",
   "id": "8a7f1923-3c3c-4881-bcc6-02b6fef991ae",
   "metadata": {},
   "source": [
    "4.Append to the file\n",
    "Append this line to the same file:\n",
    "File handling is useful in real life."
   ]
  },
  {
   "cell_type": "code",
   "execution_count": 7,
   "id": "54b224bc-c785-451c-a739-63bb76254b58",
   "metadata": {},
   "outputs": [],
   "source": [
    "file_name='my_notes.txt'\n",
    "append_content='File handling is useful in real life.'\n",
    "try:\n",
    "    with open(file_name,'a') as file_append:\n",
    "        file_append.write('\\n')\n",
    "        file_append.write(append_content)\n",
    "except Exception as e:\n",
    "    print(e)   \n"
   ]
  },
  {
   "cell_type": "raw",
   "id": "a4ec82ec-f405-492f-93a0-ad3923d35773",
   "metadata": {},
   "source": [
    "5.Count the number of lines, words, and characters\n",
    "Write a Python program that:\n",
    "Reads the file my_notes.txt\n",
    "Prints:\n",
    "Total lines\n",
    "Total words\n",
    "Total characters"
   ]
  },
  {
   "cell_type": "code",
   "execution_count": 28,
   "id": "44cb7efe-c50f-448c-8160-39a4bd461c1e",
   "metadata": {},
   "outputs": [
    {
     "name": "stdout",
     "output_type": "stream",
     "text": [
      "Python is powerful.\n",
      "Practice makes perfect.\n",
      "File handling is useful in real life. \n",
      "\n",
      "Total Lines:3\n",
      "Total Words:13\n",
      "Total character:81\n"
     ]
    }
   ],
   "source": [
    "file_name='my_notes.txt'\n",
    "characters=0\n",
    "try:\n",
    "    with open(file_name,'r') as file_read:\n",
    "        content=file_read.read()\n",
    "except Exception:\n",
    "    print('File_not_Found')\n",
    "else:\n",
    "    words=len(content.split())\n",
    "    lines=len(content.split('\\n'))\n",
    "    #for lines in content.split():\n",
    "        #print(lines)\n",
    "    for item in content:\n",
    "        characters+=1\n",
    "\n",
    "    print(content,'\\n')\n",
    "    print(f'Total Lines:{lines}')\n",
    "    print(f'Total Words:{words}')\n",
    "    print(f'Total character:{characters}')\n",
    "        "
   ]
  },
  {
   "cell_type": "raw",
   "id": "bd2ef179-a596-4d22-92e8-e08ee74c8b2d",
   "metadata": {},
   "source": [
    "6.Copy content from one file to another\n",
    "Write a program that:\n",
    "Reads from my_notes.txt\n",
    "Writes the same content to a new file named backup.txt"
   ]
  },
  {
   "cell_type": "code",
   "execution_count": 29,
   "id": "afb3e811-ce7d-416d-8b56-3f007f43a0b4",
   "metadata": {},
   "outputs": [],
   "source": [
    "old_file='my_notes.txt'\n",
    "backup_file='backup.txt'\n",
    "try:\n",
    "    with open(old_file,'r') as file_reader:\n",
    "        contnt=file_reader.read()\n",
    "except Exception:\n",
    "    print('File Not Found')\n",
    "else:\n",
    "    with open(backup_file,'w') as file_writer:\n",
    "        file_writer.write(contnt)\n",
    "        \n",
    "        "
   ]
  },
  {
   "cell_type": "raw",
   "id": "3d6963f3-b697-462e-a3f8-45a0914b8c65",
   "metadata": {},
   "source": [
    "7)Search for a word in the file\n",
    "Ask the user to enter a word, and check if it exists in my_notes.txt."
   ]
  },
  {
   "cell_type": "raw",
   "id": "9abc50dd-3c61-46bf-b400-ca60ffe99e6e",
   "metadata": {},
   "source": [
    "file_name='my_notes.txt'\n",
    "try:\n",
    "    word_search=input('Enter The Word To be Searched')\n",
    "except Exception:\n",
    "    print('Some Error Occurred')\n",
    "else:\n",
    "    try:\n",
    "        with open(file_name,'r') as file_r:\n",
    "            con=file_r.read()\n",
    "    except Exception:\n",
    "        print(\"File Not Found\")\n",
    "    else:\n",
    "        if word_search in con:\n",
    "            print(f\"{word_search} exists in {file_name}\")\n",
    "        else:\n",
    "            print(f\"{word_search}  Not exists in {file_name}\")"
   ]
  },
  {
   "cell_type": "raw",
   "id": "0e83fcc5-cdcb-4363-b1cd-e6649dea1d79",
   "metadata": {},
   "source": [
    "8)Remove newline characters\n",
    "Read all lines from my_notes.txt and store them in a list without \\n."
   ]
  },
  {
   "cell_type": "code",
   "execution_count": 44,
   "id": "3cf4cbfc-83bc-4a21-9404-e21a1a39aa7b",
   "metadata": {},
   "outputs": [
    {
     "name": "stdout",
     "output_type": "stream",
     "text": [
      "['Python is powerful.', 'Practice makes perfect.', 'File handling is useful in real life.']\n"
     ]
    }
   ],
   "source": [
    "file_name='my_notes.txt'\n",
    "try:\n",
    "    with open(file_name,'r') as file_r:\n",
    "            con_file=file_r.readlines()\n",
    "except Exception:\n",
    "        print(\"File Not Found\")\n",
    "else:\n",
    "    new_con=[item.strip('\\n') for item in con_file]\n",
    "    print(new_con)    "
   ]
  },
  {
   "cell_type": "raw",
   "id": "b7259819-8d8a-4b6d-b69b-d369dbb749de",
   "metadata": {},
   "source": [
    "9)Save User Form Details : Saving registration form data to a CSV file( name,email,contact)"
   ]
  },
  {
   "cell_type": "code",
   "execution_count": 48,
   "id": "40ea68aa-6e3c-4485-bf79-78231cfcac2e",
   "metadata": {},
   "outputs": [
    {
     "name": "stdin",
     "output_type": "stream",
     "text": [
      "Enter User Name Arijit\n",
      "Enter User email abc@gmail.com\n",
      "Enter User Phone_no 9823xxxxxx\n"
     ]
    }
   ],
   "source": [
    "import csv\n",
    "Header=['Name','Email','Contact']\n",
    "def input_values():\n",
    "    try:\n",
    "        name=input(\"Enter User Name\")\n",
    "        email=input(\"Enter User email\")\n",
    "        phone=input(\"Enter User Phone_no\")\n",
    "    except:\n",
    "        print(\"Some Error Occurred\")\n",
    "    else:\n",
    "        return [name,email,phone]\n",
    "    \n",
    "\n",
    "try:\n",
    "    with open('registration.csv','w',newline='') as file_csv:\n",
    "        file=csv.writer(file_csv)\n",
    "        file.writerow(Header)\n",
    "        file.writerow(input_values())\n",
    "        \n",
    "except Exception:\n",
    "    print('Some Error Occurred')       "
   ]
  },
  {
   "cell_type": "raw",
   "id": "fe4bb751-d332-49b6-86fc-63e2ffe0d03c",
   "metadata": {},
   "source": [
    "1)Differentiate between the following file modes:\n",
    "'r' vs 'w'\n",
    "'a' vs 'r+'\n",
    "'wb' vs 'w'"
   ]
  },
  {
   "cell_type": "raw",
   "id": "12aa4170-7646-4ffe-895a-fa4e0d95b3bc",
   "metadata": {},
   "source": [
    "'r' vs 'w':\n",
    "   'r'-->open a file for reading.The cusrsor is positioned at the beginning of the file.If file not present it gives Error,\n",
    "        we can't weite using write or writelines methon when we open a file in 'r' mode\n",
    "   'w'-->open a file for writing.The cusrsor is positioned at the beginning of the file.If file not present it creates a new file and \n",
    "         if the file is present it truncates the data and write the content whatever is given during the write operation.we can't read \n",
    "         using read,or realine or readlines when mode is 'w'"
   ]
  },
  {
   "cell_type": "raw",
   "id": "39afd0b0-a7ba-41ac-a88e-7752a45dd9f9",
   "metadata": {},
   "source": [
    "'a' vs 'r+':\n",
    "    'a'-->Open for writing.The file is created if it does not exist.The cursor is positioned at the end of the file.Subsequent writes\n",
    "         to the file will always end up at the then current end of file.\n",
    "    'r+'-->Open for reading and writing.  The cursor is positioned at the beginning of the file.So when a write operation will be performed \n",
    "            on a file where the data is already present,it will start overwrite from the beginning of the file."
   ]
  },
  {
   "cell_type": "raw",
   "id": "ebbf6852-d6b4-4445-ac34-1e1ce858837f",
   "metadata": {},
   "source": [
    "'w'-->This mode is used for writing text data. When a file is opened in 'w' mode, It  writes strings of characters. It handles character encoding and line ending conversions automatically based on the operating system's conventions . If the file exists, its contents are truncated before writing begins. If the file does not exist, a new one is created.\n",
    "\n",
    "'wb'-->This mode is used for writing binary data. When a file is opened in 'wb' mode, it writess raw bytes data to the file without any character encoding or line ending conversions.Similar to 'w', if the file exists, its contents are truncated, and if it doesn't exist, a new one is created."
   ]
  }
 ],
 "metadata": {
  "kernelspec": {
   "display_name": "Python 3 (ipykernel)",
   "language": "python",
   "name": "python3"
  },
  "language_info": {
   "codemirror_mode": {
    "name": "ipython",
    "version": 3
   },
   "file_extension": ".py",
   "mimetype": "text/x-python",
   "name": "python",
   "nbconvert_exporter": "python",
   "pygments_lexer": "ipython3",
   "version": "3.12.7"
  }
 },
 "nbformat": 4,
 "nbformat_minor": 5
}
