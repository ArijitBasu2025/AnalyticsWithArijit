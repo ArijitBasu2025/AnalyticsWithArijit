{
 "cells": [
  {
   "cell_type": "markdown",
   "id": "d6d8df08-fae2-4bbc-a818-9fa2e99d58ed",
   "metadata": {},
   "source": [
    "1.Introduction to Slicing:"
   ]
  },
  {
   "cell_type": "raw",
   "id": "408b2b49-0a3a-41e7-b973-af6ec525b52b",
   "metadata": {},
   "source": [
    "a.Given a string s = \"Hello, World!\", slice and print the following:\n",
    "i.The entire string.\n",
    "ii.The first 5 characters.\n",
    "iii.The last 5 characters.\n",
    "iv.The string excludes the first and last characters.\n",
    "v.Every second character in the string."
   ]
  },
  {
   "cell_type": "code",
   "execution_count": 1,
   "id": "4a7ca241-2c3b-446b-893f-1c51817cd98f",
   "metadata": {},
   "outputs": [],
   "source": [
    "s=\"Hello, World!\""
   ]
  },
  {
   "cell_type": "code",
   "execution_count": 4,
   "id": "a6b6e0dc-c72a-404c-8021-8db87b55e406",
   "metadata": {},
   "outputs": [
    {
     "data": {
      "text/plain": [
       "'Hello, World!'"
      ]
     },
     "execution_count": 4,
     "metadata": {},
     "output_type": "execute_result"
    }
   ],
   "source": [
    "s[::]#entire string"
   ]
  },
  {
   "cell_type": "code",
   "execution_count": 5,
   "id": "cb3ccc3c-d62d-4dbd-826c-12761f5e0717",
   "metadata": {},
   "outputs": [
    {
     "data": {
      "text/plain": [
       "'Hello'"
      ]
     },
     "execution_count": 5,
     "metadata": {},
     "output_type": "execute_result"
    }
   ],
   "source": [
    "s[:5:1]#first 5 character"
   ]
  },
  {
   "cell_type": "code",
   "execution_count": 10,
   "id": "4fe8593e-e560-4966-8e2d-b211f30d21a7",
   "metadata": {},
   "outputs": [
    {
     "data": {
      "text/plain": [
       "'World!'"
      ]
     },
     "execution_count": 10,
     "metadata": {},
     "output_type": "execute_result"
    }
   ],
   "source": [
    "s[7:]#last 5 character"
   ]
  },
  {
   "cell_type": "code",
   "execution_count": 11,
   "id": "2579e411-91f8-4fb8-8d9b-82f82be363ac",
   "metadata": {},
   "outputs": [
    {
     "data": {
      "text/plain": [
       "'ello, World'"
      ]
     },
     "execution_count": 11,
     "metadata": {},
     "output_type": "execute_result"
    }
   ],
   "source": [
    "s[1:-1]# string excludes first and last characters"
   ]
  },
  {
   "cell_type": "code",
   "execution_count": 12,
   "id": "4121adf6-dbf6-4e79-9d9b-df094f0c9af4",
   "metadata": {},
   "outputs": [
    {
     "data": {
      "text/plain": [
       "'Hlo ol!'"
      ]
     },
     "execution_count": 12,
     "metadata": {},
     "output_type": "execute_result"
    }
   ],
   "source": [
    "s[::2]#every second character"
   ]
  },
  {
   "cell_type": "raw",
   "id": "ae3c8de2-b487-43be-8774-150016902e2a",
   "metadata": {},
   "source": [
    "a.Use negative indices to slice and print the following from the string s:\n",
    "1.The last 3 characters.\n",
    "2.All characters except the last 2.\n",
    "3.The string reversed."
   ]
  },
  {
   "cell_type": "code",
   "execution_count": 15,
   "id": "c869241a-d302-4b11-97ae-5eabb3229182",
   "metadata": {},
   "outputs": [
    {
     "data": {
      "text/plain": [
       "'ld!'"
      ]
     },
     "execution_count": 15,
     "metadata": {},
     "output_type": "execute_result"
    }
   ],
   "source": [
    "s[-1:-4:-1][::-1]# last 3 character"
   ]
  },
  {
   "cell_type": "code",
   "execution_count": 16,
   "id": "688c8f5d-7473-48a1-af96-8e538f1ac582",
   "metadata": {},
   "outputs": [
    {
     "data": {
      "text/plain": [
       "'Hello, Worl'"
      ]
     },
     "execution_count": 16,
     "metadata": {},
     "output_type": "execute_result"
    }
   ],
   "source": [
    "s[-3::-1][::-1]# all character except last 2"
   ]
  },
  {
   "cell_type": "code",
   "execution_count": 17,
   "id": "27ab415b-c018-41c5-8e29-f01413e43464",
   "metadata": {},
   "outputs": [
    {
     "data": {
      "text/plain": [
       "'!dlroW ,olleH'"
      ]
     },
     "execution_count": 17,
     "metadata": {},
     "output_type": "execute_result"
    }
   ],
   "source": [
    "s[::-1]# reversed string"
   ]
  },
  {
   "cell_type": "markdown",
   "id": "abd7795d-efd2-466d-847f-67475f41418b",
   "metadata": {},
   "source": [
    "1.Slicing Substrings:"
   ]
  },
  {
   "cell_type": "raw",
   "id": "d3a04b59-66b4-4354-817a-0c29738eb605",
   "metadata": {},
   "source": [
    "a.Given a string sentence = \"The quick brown fox jumps over the lazy dog\", slice and print the following:\n",
    "i.The word \"quick\".\n",
    "ii.The word \"lazy\".\n",
    "iii.The words \"brown fox jumps\""
   ]
  },
  {
   "cell_type": "code",
   "execution_count": 18,
   "id": "f0c89b5e-92b2-4c5d-9b3d-c17b5e0986b5",
   "metadata": {},
   "outputs": [],
   "source": [
    "string=\"The quick brown fox jumps over the lazy dog\""
   ]
  },
  {
   "cell_type": "code",
   "execution_count": 22,
   "id": "17c41d1c-37ff-4199-b223-e1095d8a40df",
   "metadata": {},
   "outputs": [
    {
     "data": {
      "text/plain": [
       "'quick'"
      ]
     },
     "execution_count": 22,
     "metadata": {},
     "output_type": "execute_result"
    }
   ],
   "source": [
    "string[string.index(\"quick\"):string.index(\"quick\")+len(\"quick\"):1] # word \"quick\""
   ]
  },
  {
   "cell_type": "code",
   "execution_count": 24,
   "id": "95347eb4-4d71-4b94-ae7b-f9450b8cb068",
   "metadata": {},
   "outputs": [
    {
     "data": {
      "text/plain": [
       "'lazy'"
      ]
     },
     "execution_count": 24,
     "metadata": {},
     "output_type": "execute_result"
    }
   ],
   "source": [
    "string[string.index(\"lazy\"):string.index(\"lazy\")+len(\"lazy\"):1] #word \"lazy\""
   ]
  },
  {
   "cell_type": "code",
   "execution_count": 28,
   "id": "74b906b6-990a-4e4d-ba73-6dff140ace8a",
   "metadata": {},
   "outputs": [
    {
     "data": {
      "text/plain": [
       "'brown fox jumps'"
      ]
     },
     "execution_count": 28,
     "metadata": {},
     "output_type": "execute_result"
    }
   ],
   "source": [
    "string[string.index(\"brown fox jumps\"):string.index(\"brown fox jumps\")+len(\"brown fox jumps\"):1]# word \"brown fox jumps\""
   ]
  },
  {
   "cell_type": "markdown",
   "id": "61bfa8b3-b015-40b4-a8ff-ab46d88a16f5",
   "metadata": {},
   "source": [
    "2.Step Slicing:"
   ]
  },
  {
   "cell_type": "raw",
   "id": "749d8be5-d972-4e56-8f03-7e06293a22ff",
   "metadata": {},
   "source": [
    "a.Use step slicing to print the following from the string s:\n",
    "i.Every third character.\n",
    "ii.Every third character starting from the second character.\n",
    "iii.The string reversed, stepping by 2."
   ]
  },
  {
   "cell_type": "code",
   "execution_count": 29,
   "id": "39e7a10f-0956-4979-b84c-7b491b038092",
   "metadata": {},
   "outputs": [
    {
     "data": {
      "text/plain": [
       "'T i o xusv ea g'"
      ]
     },
     "execution_count": 29,
     "metadata": {},
     "output_type": "execute_result"
    }
   ],
   "source": [
    "string[::3]#every 3rd character"
   ]
  },
  {
   "cell_type": "code",
   "execution_count": 30,
   "id": "a8f6f79a-18b8-473d-b45e-edd29f501f28",
   "metadata": {},
   "outputs": [
    {
     "data": {
      "text/plain": [
       "'hqcbwf m et zd'"
      ]
     },
     "execution_count": 30,
     "metadata": {},
     "output_type": "execute_result"
    }
   ],
   "source": [
    "string[1::3]# every 3rd character starting from 2nd character"
   ]
  },
  {
   "cell_type": "code",
   "execution_count": 31,
   "id": "d0ae8ec0-7cab-4f1f-9d3b-1cb4df781df6",
   "metadata": {},
   "outputs": [
    {
     "data": {
      "text/plain": [
       "'gdya h eosmjxfnobkiqeT'"
      ]
     },
     "execution_count": 31,
     "metadata": {},
     "output_type": "execute_result"
    }
   ],
   "source": [
    "string[::-2]# string reversed stepping by 2"
   ]
  },
  {
   "cell_type": "markdown",
   "id": "a6410f77-0a24-487c-a5b5-e5537925f777",
   "metadata": {},
   "source": [
    "Part 3: Practical Application"
   ]
  },
  {
   "cell_type": "raw",
   "id": "0a2ec4d5-0c88-41ee-8ad6-ddecee1a2696",
   "metadata": {},
   "source": [
    "1.Extracting Information:\n",
    "a.Given a string data = \"2024-09-01,Sunny,25°C\", extract and print the following:\n",
    "i.The date.\n",
    "ii.The weather condition.\n",
    "iii.The temperature"
   ]
  },
  {
   "cell_type": "code",
   "execution_count": 32,
   "id": "63677ef4-911a-426b-aeed-5c7016be5518",
   "metadata": {},
   "outputs": [],
   "source": [
    "string=\"2024-09-01,Sunny,25°C\""
   ]
  },
  {
   "cell_type": "code",
   "execution_count": 36,
   "id": "e6006add-1e4c-48e7-a0a9-5e845b89d506",
   "metadata": {},
   "outputs": [
    {
     "name": "stdout",
     "output_type": "stream",
     "text": [
      "2024-09-01\n"
     ]
    }
   ],
   "source": [
    "date=string[:string.index(','):]\n",
    "print(date)"
   ]
  },
  {
   "cell_type": "code",
   "execution_count": 44,
   "id": "caf80eb2-a7bb-4013-9a44-f4ba6d505579",
   "metadata": {},
   "outputs": [
    {
     "name": "stdout",
     "output_type": "stream",
     "text": [
      "Sunny\n"
     ]
    }
   ],
   "source": [
    "weather_condition=string[string.index(',')+1:string.rfind(',')]\n",
    "print(weather_condition)"
   ]
  },
  {
   "cell_type": "code",
   "execution_count": 45,
   "id": "689d3660-01e1-483b-8249-f573a7e95e74",
   "metadata": {},
   "outputs": [
    {
     "name": "stdout",
     "output_type": "stream",
     "text": [
      "25°C\n"
     ]
    }
   ],
   "source": [
    "temperature=string[string.rfind(',')+1::1]\n",
    "print(temperature)"
   ]
  },
  {
   "cell_type": "markdown",
   "id": "6a660223-2c57-4bde-ae12-509d0c15929d",
   "metadata": {},
   "source": [
    "2.Reformatting Strings:"
   ]
  },
  {
   "cell_type": "raw",
   "id": "9e421458-ee15-40fb-9d6d-dc2b8a0f4e32",
   "metadata": {},
   "source": [
    "i.Given a string phone_number = \"(123) 456-7890\", reformat it to ‘123-456-7890’"
   ]
  },
  {
   "cell_type": "code",
   "execution_count": 46,
   "id": "03bb2461-6ee2-4177-b9fa-9e2a5b408f68",
   "metadata": {},
   "outputs": [],
   "source": [
    "s=\"(123) 456-7890\""
   ]
  },
  {
   "cell_type": "code",
   "execution_count": 51,
   "id": "2fef54bf-6e2b-4fc8-989b-7d59ea216260",
   "metadata": {},
   "outputs": [
    {
     "data": {
      "text/plain": [
       "'123-456-7890'"
      ]
     },
     "execution_count": 51,
     "metadata": {},
     "output_type": "execute_result"
    }
   ],
   "source": [
    "s=(s.replace('(',' ')).replace(') ','-').strip()\n",
    "s"
   ]
  },
  {
   "cell_type": "markdown",
   "id": "a9075617-c6d2-4d47-b8bf-247e012d49b4",
   "metadata": {},
   "source": [
    "Part 4: Questions based on string methods"
   ]
  },
  {
   "cell_type": "raw",
   "id": "5d87f28d-808f-4291-ae6c-0f587ee6b0d9",
   "metadata": {},
   "source": [
    "1.Upper and Lower Case Conversion:\n",
    "i.Given a string s = \"Hello, World!\", perform the following:\n",
    "b.Convert the string to all uppercase letters.\n",
    "c.Convert the string to all lowercase letters.\n",
    "d.Convert the string to title case.\n",
    "e.Capitalize the first letter of the string."
   ]
  },
  {
   "cell_type": "code",
   "execution_count": 52,
   "id": "6831b880-81a7-40b2-8521-a7ef6598d268",
   "metadata": {},
   "outputs": [],
   "source": [
    "s=\"Hello, World!\""
   ]
  },
  {
   "cell_type": "code",
   "execution_count": 53,
   "id": "e2d7e462-ea59-4b48-8f5b-13441049bf0a",
   "metadata": {},
   "outputs": [
    {
     "data": {
      "text/plain": [
       "'HELLO, WORLD!'"
      ]
     },
     "execution_count": 53,
     "metadata": {},
     "output_type": "execute_result"
    }
   ],
   "source": [
    "s.upper()#upper case"
   ]
  },
  {
   "cell_type": "code",
   "execution_count": 54,
   "id": "84b72b74-1c7e-44d5-9a24-b7c72df60250",
   "metadata": {},
   "outputs": [
    {
     "data": {
      "text/plain": [
       "'hello, world!'"
      ]
     },
     "execution_count": 54,
     "metadata": {},
     "output_type": "execute_result"
    }
   ],
   "source": [
    "s.lower()# lower case"
   ]
  },
  {
   "cell_type": "code",
   "execution_count": 55,
   "id": "c39b3397-1f1a-4b90-b77e-e3753f494948",
   "metadata": {},
   "outputs": [
    {
     "data": {
      "text/plain": [
       "'Hello, World!'"
      ]
     },
     "execution_count": 55,
     "metadata": {},
     "output_type": "execute_result"
    }
   ],
   "source": [
    "s.title()# title case"
   ]
  },
  {
   "cell_type": "code",
   "execution_count": 56,
   "id": "963fafb2-0bc1-4463-a4fd-363f5204ed55",
   "metadata": {},
   "outputs": [
    {
     "data": {
      "text/plain": [
       "'Hello, world!'"
      ]
     },
     "execution_count": 56,
     "metadata": {},
     "output_type": "execute_result"
    }
   ],
   "source": [
    "s.capitalize()# capitalize 1st letter of string"
   ]
  },
  {
   "cell_type": "markdown",
   "id": "6dd0eecb-1f37-4cd0-82ef-70dd0364755e",
   "metadata": {},
   "source": [
    "2.Finding Substrings:"
   ]
  },
  {
   "cell_type": "raw",
   "id": "29e137ef-6115-4de7-a740-7fc2074ac4fb",
   "metadata": {},
   "source": [
    "Given a string s = \"The quick brown fox jumps over the lazy dog\", perform the following:\n",
    "a. Find the position of the substring \"fox\".\n",
    "b. Check if the substring \"cat\" is in the string."
   ]
  },
  {
   "cell_type": "code",
   "execution_count": 57,
   "id": "33a0d3e3-cead-4e65-8aa7-c41b925a0fa0",
   "metadata": {},
   "outputs": [],
   "source": [
    "s=\"The quick brown fox jumps over the lazy dog\""
   ]
  },
  {
   "cell_type": "code",
   "execution_count": 58,
   "id": "8049a233-53a4-4252-baf1-6d36131b19a6",
   "metadata": {},
   "outputs": [
    {
     "data": {
      "text/plain": [
       "16"
      ]
     },
     "execution_count": 58,
     "metadata": {},
     "output_type": "execute_result"
    }
   ],
   "source": [
    "s.find(\"fox\")# position of substring \"fox\""
   ]
  },
  {
   "cell_type": "code",
   "execution_count": 59,
   "id": "0def639a-b486-4cc3-85ed-876a8b6b6fa5",
   "metadata": {},
   "outputs": [
    {
     "data": {
      "text/plain": [
       "False"
      ]
     },
     "execution_count": 59,
     "metadata": {},
     "output_type": "execute_result"
    }
   ],
   "source": [
    "\"cat\" in s # checking whether \"cat\" in string"
   ]
  },
  {
   "cell_type": "markdown",
   "id": "0658009d-b018-4a03-9928-eae59de7af5a",
   "metadata": {},
   "source": [
    "3.Replacing Substrings:"
   ]
  },
  {
   "cell_type": "raw",
   "id": "3e9477ce-db18-44cb-bdb6-9e7f3c08baa9",
   "metadata": {},
   "source": [
    "Given a string s = \"The quick brown fox jumps over the lazy dog\", perform the following:\n",
    "a.Replace \"fox\" with \"cat\".\n",
    "b.Replace all spaces with underscores.\n",
    "c.Split the string into a list of words.\n",
    "d.Split the string by the letter 'o'."
   ]
  },
  {
   "cell_type": "code",
   "execution_count": 60,
   "id": "9a9c6b53-9516-44cc-838e-8fa5629805c6",
   "metadata": {},
   "outputs": [],
   "source": [
    "s=\"The quick brown fox jumps over the lazy dog\""
   ]
  },
  {
   "cell_type": "code",
   "execution_count": 62,
   "id": "133e7b81-0ad6-49e8-9bd5-cc16ac4df5c3",
   "metadata": {},
   "outputs": [
    {
     "data": {
      "text/plain": [
       "'The quick brown cat jumps over the lazy dog'"
      ]
     },
     "execution_count": 62,
     "metadata": {},
     "output_type": "execute_result"
    }
   ],
   "source": [
    "s1=s.replace(\"fox\",\"cat\")\n",
    "s1"
   ]
  },
  {
   "cell_type": "code",
   "execution_count": 63,
   "id": "85ca2600-4308-40a1-accc-cf581e75ce3f",
   "metadata": {},
   "outputs": [
    {
     "data": {
      "text/plain": [
       "'The_quick_brown_fox_jumps_over_the_lazy_dog'"
      ]
     },
     "execution_count": 63,
     "metadata": {},
     "output_type": "execute_result"
    }
   ],
   "source": [
    "s2=s.replace(\" \",\"_\")\n",
    "s2"
   ]
  },
  {
   "cell_type": "code",
   "execution_count": 64,
   "id": "962ce9e3-952b-4005-a627-e3966f59cbbb",
   "metadata": {},
   "outputs": [
    {
     "data": {
      "text/plain": [
       "['The', 'quick', 'brown', 'fox', 'jumps', 'over', 'the', 'lazy', 'dog']"
      ]
     },
     "execution_count": 64,
     "metadata": {},
     "output_type": "execute_result"
    }
   ],
   "source": [
    "s3=s.split()\n",
    "s3"
   ]
  },
  {
   "cell_type": "code",
   "execution_count": 66,
   "id": "bbacd230-da86-470f-9b7a-83b00e89de63",
   "metadata": {},
   "outputs": [
    {
     "data": {
      "text/plain": [
       "['The quick br', 'wn f', 'x jumps ', 'ver the lazy d', 'g']"
      ]
     },
     "execution_count": 66,
     "metadata": {},
     "output_type": "execute_result"
    }
   ],
   "source": [
    "s4=s.split('o')\n",
    "s4"
   ]
  },
  {
   "cell_type": "markdown",
   "id": "9ee3d16b-5424-4a12-b294-5fe2ee0bb20e",
   "metadata": {},
   "source": [
    "4.Joining Strings:"
   ]
  },
  {
   "cell_type": "raw",
   "id": "4465458b-0079-4769-81da-3fd482655bce",
   "metadata": {},
   "source": [
    "Given a list of words\n",
    "words = [\"The\", \"quick\", \"brown\", \"fox\"],\n",
    "perform the following:\n",
    "a.Join the words with spaces.\n",
    "b.Join the words with hyphens"
   ]
  },
  {
   "cell_type": "code",
   "execution_count": 67,
   "id": "18757f1c-f0e5-49d3-a90c-95c5d9fd6539",
   "metadata": {},
   "outputs": [],
   "source": [
    "words = [\"The\", \"quick\", \"brown\", \"fox\"]"
   ]
  },
  {
   "cell_type": "code",
   "execution_count": 68,
   "id": "d54ee697-9da5-48be-bd16-8332fc871874",
   "metadata": {},
   "outputs": [
    {
     "data": {
      "text/plain": [
       "'The quick brown fox'"
      ]
     },
     "execution_count": 68,
     "metadata": {},
     "output_type": "execute_result"
    }
   ],
   "source": [
    "' '.join(words)"
   ]
  },
  {
   "cell_type": "code",
   "execution_count": 69,
   "id": "f49f7e2c-e67f-4903-bcc6-fc503a493a4a",
   "metadata": {},
   "outputs": [
    {
     "data": {
      "text/plain": [
       "'The-quick-brown-fox'"
      ]
     },
     "execution_count": 69,
     "metadata": {},
     "output_type": "execute_result"
    }
   ],
   "source": [
    "'-'.join(words)"
   ]
  },
  {
   "cell_type": "code",
   "execution_count": null,
   "id": "26bcbe16-365c-4ba5-9091-d2c9c31350cc",
   "metadata": {},
   "outputs": [],
   "source": []
  }
 ],
 "metadata": {
  "kernelspec": {
   "display_name": "Python 3 (ipykernel)",
   "language": "python",
   "name": "python3"
  },
  "language_info": {
   "codemirror_mode": {
    "name": "ipython",
    "version": 3
   },
   "file_extension": ".py",
   "mimetype": "text/x-python",
   "name": "python",
   "nbconvert_exporter": "python",
   "pygments_lexer": "ipython3",
   "version": "3.12.7"
  }
 },
 "nbformat": 4,
 "nbformat_minor": 5
}
