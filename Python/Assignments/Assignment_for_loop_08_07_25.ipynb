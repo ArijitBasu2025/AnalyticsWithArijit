{
 "cells": [
  {
   "cell_type": "raw",
   "id": "df46ca9e-8364-43b5-a434-d774b6e5aba3",
   "metadata": {},
   "source": [
    "11.Given a list and a tuple, write a Python program that finds the common elements between the list and the tuple using a loop.\n",
    "python\n",
    "my_list = [1, 2, 3, 4, 5]\n",
    "my_tuple = (3, 4, 5, 6, 7)"
   ]
  },
  {
   "cell_type": "code",
   "execution_count": 1,
   "id": "1f6d9ec0-34b9-4d48-b860-f3a9497f5260",
   "metadata": {},
   "outputs": [
    {
     "name": "stdout",
     "output_type": "stream",
     "text": [
      "List items-[1, 2, 3, 4, 5]\n",
      "tupple items-(3, 4, 5, 6, 7)\n",
      "common items-[3, 4, 5]\n"
     ]
    }
   ],
   "source": [
    "my_list=[1,2,3,4,5]\n",
    "my_tuple=(3,4,5,6,7)\n",
    "\n",
    "def common_elements(my_list,my_tuple):\n",
    "    common=[]\n",
    "    try:\n",
    "        for item in my_list:\n",
    "            if item in my_tuple:\n",
    "                common.append(item)\n",
    "            else:\n",
    "                continue\n",
    "    except Exception as e:\n",
    "        print(e)\n",
    "    else:\n",
    "        return common\n",
    "\n",
    "common_element=common_elements(my_list,my_tuple)\n",
    "print(f\"List items-{my_list}\")\n",
    "print(f\"tupple items-{my_tuple}\")\n",
    "print(f\"common items-{common_element}\")"
   ]
  },
  {
   "cell_type": "raw",
   "id": "264ddc41-e6d6-4e06-9a22-baa6e8c11e85",
   "metadata": {},
   "source": [
    "10.Given a list of tuples where each tuple contains a student’s name and their score, \n",
    "write a Python program that creates a dictionary. The dictionary should group the students \n",
    "based on whether their score is 'pass' (>= 50) or 'fail' (< 50). Use loops to categorize the students."
   ]
  },
  {
   "cell_type": "code",
   "execution_count": 11,
   "id": "58393d99-0c9a-4210-8f1d-e8b251bbc093",
   "metadata": {},
   "outputs": [
    {
     "name": "stdin",
     "output_type": "stream",
     "text": [
      "Enter The Number Of times You want to add the details: 5\n",
      "Enter The Student Name Harry\n",
      "Enter The Student Score 65\n",
      "Enter The Student Name Michel\n",
      "Enter The Student Score 56\n",
      "Enter The Student Name John\n",
      "Enter The Student Score 32\n",
      "Enter The Student Name Alex\n",
      "Enter The Student Score 45\n",
      "Enter The Student Name Gill\n",
      "Enter The Student Score 89\n"
     ]
    },
    {
     "name": "stdout",
     "output_type": "stream",
     "text": [
      "{'Pass': [('Harry', 65), ('Michel', 56), ('Gill', 89)], 'Fail': [('John', 32), ('Alex', 45)]}\n"
     ]
    }
   ],
   "source": [
    "def input_times():\n",
    "    while True:\n",
    "        try:\n",
    "            n=int(input(\"Enter The Number Of times You want to add the details:\"))\n",
    "            if n<=0:\n",
    "                raise Exception(\"Give Positive Input values only and it must be > 0\")\n",
    "            else:\n",
    "                return n\n",
    "                break\n",
    "        except ValueError:\n",
    "            print(\"Give input integer numbers only\")\n",
    "            continue\n",
    "        except Exception as e:\n",
    "            print(e)\n",
    "            continue\n",
    "\n",
    "n=input_times()\n",
    "list_value=[]\n",
    "\n",
    "def input_name_score():\n",
    "    while True:\n",
    "        try:\n",
    "            name=input(\"Enter The Student Name\")\n",
    "        except Exception as e:\n",
    "            print(e)\n",
    "            continue\n",
    "        else:\n",
    "            try:\n",
    "                score=int(input(\"Enter The Student Score\"))\n",
    "                if score<=0:\n",
    "                    raise Exception(\"Score value should be >0 only\")\n",
    "            except ValueError:\n",
    "                print(\"Give input integer numbers only\")\n",
    "                continue\n",
    "            except Exception as e:\n",
    "                print(e)\n",
    "                continue\n",
    "            else:\n",
    "                return (name,score)\n",
    "                break\n",
    "\n",
    "def input_list(n,list_value):\n",
    "    for item in range(n):\n",
    "        list_value.append(input_name_score())\n",
    "    return list_value\n",
    "\n",
    "x=input_list(n,list_value)\n",
    "group_dict={}\n",
    "def dictionary_group(x,group_dict):\n",
    "    value_pass,value_fail=[],[]\n",
    "    for item in x:\n",
    "        if item[1]>=50:\n",
    "            value_pass.append(item)\n",
    "            group_dict[\"Pass\"]=value_pass\n",
    "        else:\n",
    "            value_fail.append(item)\n",
    "            group_dict[\"Fail\"]=value_fail\n",
    "    return group_dict\n",
    "\n",
    "diction=dictionary_group(x,group_dict)\n",
    "print(diction)"
   ]
  },
  {
   "cell_type": "raw",
   "id": "0fcefa0c-8a87-422d-a488-30c5b4fe4d4b",
   "metadata": {},
   "source": [
    "9.Write a Python program that finds the student with the highest score from a dictionary using a loop (without using max())."
   ]
  },
  {
   "cell_type": "code",
   "execution_count": 27,
   "id": "e8639d9d-ec35-4dc7-9ed0-868e0c9e993f",
   "metadata": {},
   "outputs": [
    {
     "name": "stdin",
     "output_type": "stream",
     "text": [
      "Enter The Number Of times You want to add the details: 5\n",
      "Enter The Student Name Harry\n",
      "Enter The Student Score 76\n",
      "Enter The Student Name Steven\n",
      "Enter The Student Score 45\n",
      "Enter The Student Name Michel\n",
      "Enter The Student Score 89\n",
      "Enter The Student Name John\n",
      "Enter The Student Score 45\n",
      "Enter The Student Name Alex\n",
      "Enter The Student Score 98\n"
     ]
    },
    {
     "name": "stdout",
     "output_type": "stream",
     "text": [
      "Highest value among {'Harry': 76, 'Steven': 45, 'Michel': 89, 'John': 45, 'Alex': 98} is ('Alex', 98)\n"
     ]
    }
   ],
   "source": [
    "def input_times():\n",
    "    while True:\n",
    "        try:\n",
    "            n=int(input(\"Enter The Number Of times You want to add the details:\"))\n",
    "            if n<=0:\n",
    "                raise Exception(\"Give Positive Input values only and it must be > 0\")\n",
    "            else:\n",
    "                return n\n",
    "                break\n",
    "        except ValueError:\n",
    "            print(\"Give input integer numbers only\")\n",
    "            continue\n",
    "        except Exception as e:\n",
    "            print(e)\n",
    "            continue\n",
    "\n",
    "n=input_times()\n",
    "diction_value={}\n",
    "def input_name_score():\n",
    "    while True:\n",
    "        try:\n",
    "            name=input(\"Enter The Student Name\")\n",
    "        except Exception as e:\n",
    "            print(e)\n",
    "            continue\n",
    "        else:\n",
    "            try:\n",
    "                score=int(input(\"Enter The Student Score\"))\n",
    "                if score<=0:\n",
    "                    raise Exception(\"Score value should be >0 only\")\n",
    "            except ValueError:\n",
    "                print(\"Give input integer numbers only\")\n",
    "                continue\n",
    "            except Exception as e:\n",
    "                print(e)\n",
    "                continue\n",
    "            else:\n",
    "                return (name,score)\n",
    "                break\n",
    "\n",
    "def input_list(n,diction_value):\n",
    "    for item in range(n):\n",
    "        i=input_name_score()\n",
    "        diction_value[str(i[0])]=i[1]\n",
    "    return diction_value\n",
    "\n",
    "x=input_list(n,diction_value)\n",
    "def max_diction(x):\n",
    "    assume_max=list(x.values())[0]\n",
    "    for item in list(x.values())[1:]:\n",
    "        if item>assume_max:\n",
    "            maxi=item\n",
    "        else:\n",
    "            maxi=assume_max\n",
    "\n",
    "    for items in list(x.items()):\n",
    "        if items[1]==maxi:\n",
    "            return items\n",
    "        \n",
    "\n",
    "print(f\"Highest value among {x} is {max_diction(x)}\")"
   ]
  },
  {
   "cell_type": "raw",
   "id": "033016e9-bd77-4499-a631-7ed3240d0575",
   "metadata": {},
   "source": [
    "8.Write a Python program that calculates the sum of all the values in a dictionary using a loop."
   ]
  },
  {
   "cell_type": "code",
   "execution_count": 30,
   "id": "018b71f8-6ecd-4ce3-ae69-8f1425ebf824",
   "metadata": {},
   "outputs": [
    {
     "name": "stdin",
     "output_type": "stream",
     "text": [
      "Enter The Number Of times You want to add the details: 4\n",
      "Enter The Name Alex\n",
      "Enter The value 65\n",
      "Enter The Name Suzi\n",
      "Enter The value 98\n",
      "Enter The Name Danny\n",
      "Enter The value 76\n",
      "Enter The Name kim\n",
      "Enter The value 34\n"
     ]
    },
    {
     "name": "stdout",
     "output_type": "stream",
     "text": [
      "Sum of all value among {'Alex': 65, 'Suzi': 98, 'Danny': 76, 'kim': 34} is 273\n"
     ]
    }
   ],
   "source": [
    "def input_times():\n",
    "    while True:\n",
    "        try:\n",
    "            n=int(input(\"Enter The Number Of times You want to add the details:\"))\n",
    "            if n<=0:\n",
    "                raise Exception(\"Give Positive Input values only and it must be > 0\")\n",
    "            else:\n",
    "                return n\n",
    "                break\n",
    "        except ValueError:\n",
    "            print(\"Give input integer numbers only\")\n",
    "            continue\n",
    "        except Exception as e:\n",
    "            print(e)\n",
    "            continue\n",
    "\n",
    "n=input_times()\n",
    "def input_name_value():\n",
    "    while True:\n",
    "        try:\n",
    "            name=input(\"Enter The Name\")\n",
    "        except Exception as e:\n",
    "            print(e)\n",
    "            continue\n",
    "        else:\n",
    "            try:\n",
    "                value=int(input(\"Enter The value\"))\n",
    "                if value<=0:\n",
    "                    raise Exception(\"value should be >0 only\")\n",
    "            except ValueError:\n",
    "                print(\"Give input integer numbers only\")\n",
    "                continue\n",
    "            except Exception as e:\n",
    "                print(e)\n",
    "                continue\n",
    "            else:\n",
    "                return (name,value)\n",
    "                break\n",
    "\n",
    "diction_value={}\n",
    "def input_list(n,diction_value):\n",
    "    for item in range(n):\n",
    "        i=input_name_value()\n",
    "        diction_value[str(i[0])]=i[1]\n",
    "    return diction_value\n",
    "x=input_list(n,diction_value)\n",
    "\n",
    "def sum_value_diction(x):\n",
    "    summ=0\n",
    "    for item in list(x.values()):\n",
    "        summ+=item\n",
    "    return summ\n",
    "\n",
    "print(f\"Sum of all value among {x} is {sum_value_diction(x)}\")"
   ]
  },
  {
   "cell_type": "raw",
   "id": "e3debdbf-db7f-4138-8654-1ffb6abb9c85",
   "metadata": {},
   "source": [
    "7.Create a dictionary where the keys are names of students and the values are their scores. \n",
    "Write a program that prints each student's name and their score using a loop."
   ]
  },
  {
   "cell_type": "code",
   "execution_count": 33,
   "id": "74f3751a-2b06-421e-b919-3b0a7e1ccde2",
   "metadata": {},
   "outputs": [
    {
     "name": "stdin",
     "output_type": "stream",
     "text": [
      "Enter The Number Of times You want to add the details: 4\n",
      "Enter The Student Name Ram\n",
      "Enter The Student Score 45\n",
      "Enter The Student Name Shyan\n",
      "Enter The Student Score 89\n",
      "Enter The Student Name Charan\n",
      "Enter The Student Score 76\n",
      "Enter The Student Name Harsh\n",
      "Enter The Student Score 87\n"
     ]
    },
    {
     "name": "stdout",
     "output_type": "stream",
     "text": [
      "Student Name:Ram and Score:45\n",
      "Student Name:Shyan and Score:89\n",
      "Student Name:Charan and Score:76\n",
      "Student Name:Harsh and Score:87\n"
     ]
    }
   ],
   "source": [
    "def input_times():\n",
    "    while True:\n",
    "        try:\n",
    "            n=int(input(\"Enter The Number Of times You want to add the details:\"))\n",
    "            if n<=0:\n",
    "                raise Exception(\"Give Positive Input values only and it must be > 0\")\n",
    "            else:\n",
    "                return n\n",
    "                break\n",
    "        except ValueError:\n",
    "            print(\"Give input integer numbers only\")\n",
    "            continue\n",
    "        except Exception as e:\n",
    "            print(e)\n",
    "            continue\n",
    "\n",
    "n=input_times()\n",
    "diction_value={}\n",
    "\n",
    "def input_name_score():\n",
    "    while True:\n",
    "        try:\n",
    "            name=input(\"Enter The Student Name\")\n",
    "        except Exception as e:\n",
    "            print(e)\n",
    "            continue\n",
    "        else:\n",
    "            try:\n",
    "                score=int(input(\"Enter The Student Score\"))\n",
    "                if score<=0:\n",
    "                    raise Exception(\"Score value should be >0 only\")\n",
    "            except ValueError:\n",
    "                print(\"Give input integer numbers only\")\n",
    "                continue\n",
    "            except Exception as e:\n",
    "                print(e)\n",
    "                continue\n",
    "            else:\n",
    "                return (name,score)\n",
    "                break\n",
    "\n",
    "def input_list(n,diction_value):\n",
    "    for item in range(n):\n",
    "        i=input_name_score()\n",
    "        diction_value[str(i[0])]=i[1]\n",
    "    return diction_value\n",
    "\n",
    "x=input_list(n,diction_value)\n",
    "\n",
    "def print_student_score(x):\n",
    "    for item in list(x.keys()):\n",
    "        print(f\"Student Name:{item} and Score:{x[item]}\")\n",
    "\n",
    "print_student_score(x)"
   ]
  },
  {
   "cell_type": "raw",
   "id": "1a19c3ff-dc0c-4d9f-a106-fb6f323e9706",
   "metadata": {},
   "source": [
    "6.Write a Python program that reverses the elements of a tuple using a loop."
   ]
  },
  {
   "cell_type": "code",
   "execution_count": 45,
   "id": "978587b7-6487-4083-a12e-43530994cc60",
   "metadata": {},
   "outputs": [
    {
     "name": "stdin",
     "output_type": "stream",
     "text": [
      "Enter The Number Of times You want to add the details: 4\n",
      "Enter The Element Alex\n",
      "Enter The Element Steven\n",
      "Enter The Element Suzi\n",
      "Enter The Element Chang\n"
     ]
    },
    {
     "name": "stdout",
     "output_type": "stream",
     "text": [
      "Original Tuple ('Alex', 'Steven', 'Suzi', 'Chang') and Reverse Tuple is ('Chang', 'Suzi', 'Steven', 'Alex')\n"
     ]
    }
   ],
   "source": [
    "def input_times():\n",
    "    while True:\n",
    "        try:\n",
    "            n=int(input(\"Enter The Number Of times You want to add the details:\"))\n",
    "            if n<=0:\n",
    "                raise Exception(\"Give Positive Input values only and it must be > 0\")\n",
    "            else:\n",
    "                return n\n",
    "                break\n",
    "        except ValueError:\n",
    "            print(\"Give input integer numbers only\")\n",
    "            continue\n",
    "        except Exception as e:\n",
    "            print(e)\n",
    "            continue\n",
    "\n",
    "n=input_times()\n",
    "listt=[]\n",
    "def input_val(n,listt):\n",
    "    for item in range(n):\n",
    "        x=input(\"Enter The Element\")\n",
    "        listt.append(x)\n",
    "    return listt\n",
    "\n",
    "re_tup=tuple(input_val(n,listt))\n",
    "\n",
    "def rev_tup(re_tup):\n",
    "    rev_list=[]\n",
    "    for item in range(len(re_tup)-1,-1,-1):\n",
    "        rev_list.append(re_tup[item])\n",
    "    return tuple(rev_list)\n",
    "    \n",
    "\n",
    "print(f\"Original Tuple {re_tup} and Reverse Tuple is {rev_tup(re_tup)}\")\n",
    "        \n",
    "        "
   ]
  },
  {
   "cell_type": "raw",
   "id": "aeecc6af-41e4-40dd-8ae9-473c96adef5d",
   "metadata": {},
   "source": [
    "5.Write a Python program that concatenates all elements in a tuple of strings into a single string using a loop."
   ]
  },
  {
   "cell_type": "code",
   "execution_count": 50,
   "id": "9a925661-9f9b-49c7-9de3-8bafa6b356eb",
   "metadata": {},
   "outputs": [
    {
     "name": "stdin",
     "output_type": "stream",
     "text": [
      "Enter The Number Of times You want to add the details: 4\n",
      "Enter The Element Amar\n",
      "Enter The Element Alex\n",
      "Enter The Element Shyam\n",
      "Enter The Element Jyoti\n"
     ]
    },
    {
     "name": "stdout",
     "output_type": "stream",
     "text": [
      "Original tuple Of strings ('Amar', 'Alex', 'Shyam', 'Jyoti')\n",
      "New Concatenated String: AmarAlexShyamJyoti\n"
     ]
    }
   ],
   "source": [
    "def input_times():\n",
    "    while True:\n",
    "        try:\n",
    "            n=int(input(\"Enter The Number Of times You want to add the details:\"))\n",
    "            if n<=0:\n",
    "                raise Exception(\"Give Positive Input values only and it must be > 0\")\n",
    "            else:\n",
    "                return n\n",
    "                break\n",
    "        except ValueError:\n",
    "            print(\"Give input integer numbers only\")\n",
    "            continue\n",
    "        except Exception as e:\n",
    "            print(e)\n",
    "            continue\n",
    "\n",
    "n=input_times()\n",
    "listt=[]\n",
    "def input_val(n,listt):\n",
    "    for item in range(n):\n",
    "        x=input(\"Enter The Element\")\n",
    "        listt.append(x)\n",
    "    return listt\n",
    "\n",
    "re_tup=tuple(input_val(n,listt))\n",
    "\n",
    "def concate(re_tup):\n",
    "    new_string=''\n",
    "    for item in re_tup:\n",
    "        new_string+=str(item)\n",
    "    return new_string\n",
    "\n",
    "print(f\"Original tuple Of strings {re_tup}\")\n",
    "print(f\"New Concatenated String: {concate(re_tup)}\")"
   ]
  },
  {
   "cell_type": "raw",
   "id": "7214e3f0-2de5-4012-b15e-10b9b5f11e51",
   "metadata": {},
   "source": [
    "4.Write a Python program to create a tuple of strings and print each element using a for loop."
   ]
  },
  {
   "cell_type": "code",
   "execution_count": 52,
   "id": "7e3021df-95e2-4a66-9eb5-a577bb9aa1f3",
   "metadata": {},
   "outputs": [
    {
     "name": "stdin",
     "output_type": "stream",
     "text": [
      "Enter The Number Of times You want to add the details: 4\n",
      "Enter The Element India\n",
      "Enter The Element Bangladesh\n",
      "Enter The Element Nepal\n",
      "Enter The Element Bhutan\n"
     ]
    },
    {
     "name": "stdout",
     "output_type": "stream",
     "text": [
      "India\n",
      "Bangladesh\n",
      "Nepal\n",
      "Bhutan\n"
     ]
    }
   ],
   "source": [
    "def input_times():\n",
    "    while True:\n",
    "        try:\n",
    "            n=int(input(\"Enter The Number Of times You want to add the details:\"))\n",
    "            if n<=0:\n",
    "                raise Exception(\"Give Positive Input values only and it must be > 0\")\n",
    "            else:\n",
    "                return n\n",
    "                break\n",
    "        except ValueError:\n",
    "            print(\"Give input integer numbers only\")\n",
    "            continue\n",
    "        except Exception as e:\n",
    "            print(e)\n",
    "            continue\n",
    "\n",
    "n=input_times()\n",
    "listt=[]\n",
    "def input_val(n,listt):\n",
    "    for item in range(n):\n",
    "        x=input(\"Enter The Element\")\n",
    "        listt.append(x)\n",
    "    return listt\n",
    "\n",
    "re_tup=tuple(input_val(n,listt))\n",
    "\n",
    "def print_tup(re_tup):\n",
    "    for item in re_tup:\n",
    "        print(item)\n",
    "\n",
    "print_tup(re_tup)"
   ]
  },
  {
   "cell_type": "raw",
   "id": "f4df3840-89bd-4f2b-a33f-8c6fc5fc20e5",
   "metadata": {},
   "source": [
    "3.Write a Python program that finds the maximum number in a list using a loop (do not use built-in max() function)."
   ]
  },
  {
   "cell_type": "code",
   "execution_count": 56,
   "id": "1b04da6d-1009-4c15-95c7-ec20afb90554",
   "metadata": {},
   "outputs": [
    {
     "name": "stdin",
     "output_type": "stream",
     "text": [
      "Enter The Number Of times You want to add the details: 4\n",
      "Enter The Element 34\n",
      "Enter The Element 65\n",
      "Enter The Element 23\n",
      "Enter The Element 45\n"
     ]
    },
    {
     "name": "stdout",
     "output_type": "stream",
     "text": [
      "List Items: ['34', '65', '23', '45']\n",
      "Maximum value: 45\n"
     ]
    }
   ],
   "source": [
    "def input_times():\n",
    "    while True:\n",
    "        try:\n",
    "            n=int(input(\"Enter The Number Of times You want to add the details:\"))\n",
    "            if n<=0:\n",
    "                raise Exception(\"Give Positive Input values only and it must be > 0\")\n",
    "            else:\n",
    "                return n\n",
    "                break\n",
    "        except ValueError:\n",
    "            print(\"Give input integer numbers only\")\n",
    "            continue\n",
    "        except Exception as e:\n",
    "            print(e)\n",
    "            continue\n",
    "\n",
    "n=input_times()\n",
    "listt=[]\n",
    "def input_val(n,listt):\n",
    "    for item in range(n):\n",
    "        x=input(\"Enter The Element\")\n",
    "        listt.append(x)\n",
    "    return listt\n",
    "\n",
    "list_value=input_val(n,listt)\n",
    "\n",
    "def max_list(list_value):\n",
    "    maxx=int(list_value[0])\n",
    "    for item in list_value[1:]:\n",
    "        if int(item)>maxx:\n",
    "            maximum=int(item)\n",
    "        else:\n",
    "            maximum=maxx\n",
    "    return maximum\n",
    "\n",
    "print(f\"List Items: {list_value}\")\n",
    "print(f\"Maximum value: {max_list(list_value)}\")"
   ]
  },
  {
   "cell_type": "raw",
   "id": "81ad955a-86b9-4244-9336-e0b06903d722",
   "metadata": {},
   "source": [
    "2.Write a program that calculates the sum of all elements in a list of numbers using a loop."
   ]
  },
  {
   "cell_type": "code",
   "execution_count": 57,
   "id": "fe0df80a-7931-4c4a-a161-bbf923bd69b2",
   "metadata": {},
   "outputs": [
    {
     "name": "stdin",
     "output_type": "stream",
     "text": [
      "Enter The Number Of times You want to add the details: 4\n",
      "Enter The Element 23\n",
      "Enter The Element 25\n",
      "Enter The Element 12\n",
      "Enter The Element 67\n"
     ]
    },
    {
     "name": "stdout",
     "output_type": "stream",
     "text": [
      "List Items: ['23', '25', '12', '67']\n",
      "Total Sum value: 127\n"
     ]
    }
   ],
   "source": [
    "def input_times():\n",
    "    while True:\n",
    "        try:\n",
    "            n=int(input(\"Enter The Number Of times You want to add the details:\"))\n",
    "            if n<=0:\n",
    "                raise Exception(\"Give Positive Input values only and it must be > 0\")\n",
    "            else:\n",
    "                return n\n",
    "                break\n",
    "        except ValueError:\n",
    "            print(\"Give input integer numbers only\")\n",
    "            continue\n",
    "        except Exception as e:\n",
    "            print(e)\n",
    "            continue\n",
    "\n",
    "n=input_times()\n",
    "listt=[]\n",
    "def input_val(n,listt):\n",
    "    for item in range(n):\n",
    "        x=input(\"Enter The Element\")\n",
    "        listt.append(x)\n",
    "    return listt\n",
    "\n",
    "list_value=input_val(n,listt)\n",
    "\n",
    "def summ_list(list_value):\n",
    "    summ=0\n",
    "    for item in list_value:\n",
    "        summ+=int(item)\n",
    "    return summ\n",
    "\n",
    "print(f\"List Items: {list_value}\")\n",
    "print(f\"Total Sum value: {summ_list(list_value)}\")"
   ]
  },
  {
   "cell_type": "raw",
   "id": "924d255e-e463-48da-8e9f-4eefe3768612",
   "metadata": {},
   "source": [
    "1.Write a Python program that creates a list of 5 numbers and prints each number using a for loop."
   ]
  },
  {
   "cell_type": "code",
   "execution_count": 61,
   "id": "eeaba73e-d500-45b3-83a8-1b91b7bf23bd",
   "metadata": {},
   "outputs": [
    {
     "name": "stdin",
     "output_type": "stream",
     "text": [
      "Enter The Number 12\n",
      "Enter The Number 56\n",
      "Enter The Number 34\n",
      "Enter The Number 87\n",
      "Enter The Number 45\n"
     ]
    },
    {
     "name": "stdout",
     "output_type": "stream",
     "text": [
      "Element-1:12\n",
      "Element-2:56\n",
      "Element-3:34\n",
      "Element-4:87\n",
      "Element-5:45\n"
     ]
    }
   ],
   "source": [
    "list_val=[]\n",
    "n=5\n",
    "def input_num():\n",
    "    while True:\n",
    "            try:\n",
    "                x=int(input(\"Enter The Number\"))\n",
    "            except ValueError:\n",
    "                print(\"Numbers Only\")\n",
    "                continue\n",
    "            else:\n",
    "                 return x\n",
    "                 break\n",
    "    \n",
    "def input_l(n,list_val):\n",
    "    for item in range(n):\n",
    "        list_val.append(input_num())\n",
    "    return list_val\n",
    "        \n",
    "l=input_l(n,list_val)\n",
    "\n",
    "def print_element(l):\n",
    "    for item in range(len(l)):\n",
    "        print(f\"Element-{item+1}:{l[item]}\")\n",
    "\n",
    "\n",
    "print_element(l)\n",
    "\n",
    "\n",
    "                \n",
    "            \n",
    "    "
   ]
  },
  {
   "cell_type": "code",
   "execution_count": null,
   "id": "b05189d1-4b7a-48a0-99f2-35b568f9fd1e",
   "metadata": {},
   "outputs": [],
   "source": []
  }
 ],
 "metadata": {
  "kernelspec": {
   "display_name": "Python 3 (ipykernel)",
   "language": "python",
   "name": "python3"
  },
  "language_info": {
   "codemirror_mode": {
    "name": "ipython",
    "version": 3
   },
   "file_extension": ".py",
   "mimetype": "text/x-python",
   "name": "python",
   "nbconvert_exporter": "python",
   "pygments_lexer": "ipython3",
   "version": "3.12.7"
  }
 },
 "nbformat": 4,
 "nbformat_minor": 5
}
