{
 "cells": [
  {
   "cell_type": "markdown",
   "id": "4bc1f07b-eaba-4ac4-ab0f-dbb7183f4d25",
   "metadata": {},
   "source": [
    "1.Understanding Variables"
   ]
  },
  {
   "cell_type": "raw",
   "id": "05b82f91-fb74-4a81-b708-0feaf9f91933",
   "metadata": {},
   "source": [
    "a.Define a variable in Python. Provide an example of how to create a variable that stores your name."
   ]
  },
  {
   "cell_type": "markdown",
   "id": "90170992-bd1b-4004-8e14-66e6181b86e8",
   "metadata": {},
   "source": [
    "A variable is a placeholder in the memory where python stores a value for different operations to be performed.It can be of\n",
    "many types like integer type ,float type,string type ,boolean type or complex type or it many be any of the following type like list \n",
    "tuple,sets or dictionary."
   ]
  },
  {
   "cell_type": "code",
   "execution_count": 1,
   "id": "4572c33e-2dec-4402-be63-34e34e7ceaa9",
   "metadata": {},
   "outputs": [],
   "source": [
    "#Creation of variable that stores my name\n",
    "name=\"Arijit\""
   ]
  },
  {
   "cell_type": "raw",
   "id": "abb2820e-c9ce-41c5-ae69-712b315ccf56",
   "metadata": {},
   "source": [
    "b.What is the difference between a variable and a constant? Can we have constants in Python?"
   ]
  },
  {
   "cell_type": "markdown",
   "id": "70083c57-e5ae-4bd4-a568-83a620b40804",
   "metadata": {},
   "source": [
    "The main difference between a variable and a constant is variable value keeps on changing as required in the memory but constant value\n",
    "remain fixed in the memory ,that can't be changed.\n",
    "\n",
    "But in python we don't have any provison to store constant value just like we do in any other programming languages,but still\n",
    "we can define constants using all uppercase letters,like PI=3.14 ,though its value can be hange in python but we should not"
   ]
  },
  {
   "cell_type": "raw",
   "id": "36a5eb45-4163-46de-89a2-49d43831a5df",
   "metadata": {},
   "source": [
    "2.Working with Different Data Types"
   ]
  },
  {
   "cell_type": "raw",
   "id": "0db520f3-86e9-4799-97e2-6f6189969eb1",
   "metadata": {},
   "source": [
    "a.Create variables of the following types in Python:\n",
    "1.Integer\n",
    "2.Float\n",
    "3.String\n",
    "4.Boolean"
   ]
  },
  {
   "cell_type": "code",
   "execution_count": 2,
   "id": "68db8fea-a48a-46a1-9c5e-7d21a2d633f7",
   "metadata": {},
   "outputs": [],
   "source": [
    "#Integer variable creation:\n",
    "int_variable=34\n",
    "\n",
    "#Float variable creation:\n",
    "float_variable=5.94\n",
    "\n",
    "#String variable creation:\n",
    "string_variable='This is a string variable'\n",
    "\n",
    "#Boolean variable creation:\n",
    "boolean_variable=True"
   ]
  },
  {
   "cell_type": "raw",
   "id": "0d0ebb46-02e2-477b-bf3e-86f2408857c5",
   "metadata": {},
   "source": [
    "b.Write a Python script to display the type of each variable you created."
   ]
  },
  {
   "cell_type": "code",
   "execution_count": 3,
   "id": "11e58e23-57aa-47e9-8125-32d71cb5eabe",
   "metadata": {},
   "outputs": [
    {
     "name": "stdout",
     "output_type": "stream",
     "text": [
      "Variable:  34  is of type:  <class 'int'>\n",
      "Variable:  5.94  is of type:  <class 'float'>\n",
      "Variable: ' This is a string variable ' is of type:  <class 'str'>\n",
      "Variable:  True  is of type:  <class 'bool'>\n"
     ]
    }
   ],
   "source": [
    "print(\"Variable: \",int_variable,\" is of type: \",type(int_variable))  \n",
    "\n",
    "print(\"Variable: \",float_variable,\" is of type: \",type(float_variable)) \n",
    "\n",
    "print(\"Variable: '\",string_variable,\"' is of type: \",type(string_variable)) \n",
    "\n",
    "print(\"Variable: \",boolean_variable,\" is of type: \",type(boolean_variable)) "
   ]
  },
  {
   "cell_type": "raw",
   "id": "6af0a56f-141c-4a92-bd7a-f7cfb02e76d4",
   "metadata": {},
   "source": [
    "3.Arithmetic Operators"
   ]
  },
  {
   "cell_type": "raw",
   "id": "851008eb-0665-494d-88f5-d3e5ed881c8d",
   "metadata": {},
   "source": [
    "a.Explain the following arithmetic operators with examples:\n",
    "1.Addition (`+`)\n",
    "2.Subtraction (`-`)\n",
    "3.Multiplication (``)\n",
    "4.Division (`/`)\n",
    "5.Floor Division (`//`)\n",
    "6.Modulus (`%`)\n",
    "7.Exponentiation (``)"
   ]
  },
  {
   "cell_type": "markdown",
   "id": "740d7888-39aa-4906-b503-e37b715a0c07",
   "metadata": {},
   "source": [
    "`+` operator is used to add 2 or more operands .In case of numeric variables it adds the numeric variables,and in case of string variable it as a\n",
    "concatination operator"
   ]
  },
  {
   "cell_type": "code",
   "execution_count": 4,
   "id": "436224b5-3703-4ee1-ab1d-97bd432b2abb",
   "metadata": {},
   "outputs": [
    {
     "name": "stdout",
     "output_type": "stream",
     "text": [
      "12 + 43 =  55\n"
     ]
    }
   ],
   "source": [
    "#let's say we have two variables of numeric type var1 and var2\n",
    "var1=12\n",
    "var2=43\n",
    "print(var1,\"+\",var2,\"= \",var1+var2)"
   ]
  },
  {
   "cell_type": "code",
   "execution_count": 5,
   "id": "95f51fae-6ef0-43be-bc0f-3b3c106d8cf5",
   "metadata": {},
   "outputs": [
    {
     "name": "stdout",
     "output_type": "stream",
     "text": [
      "Hi  + Arijit =  Hi Arijit\n"
     ]
    }
   ],
   "source": [
    "#let's say we have two variables of string type var1 and var2\n",
    "var1=\"Hi \"\n",
    "var2=\"Arijit\"\n",
    "print(var1,\"+\",var2,\"= \",var1+var2) # it acts as concatination operator here"
   ]
  },
  {
   "cell_type": "markdown",
   "id": "9c263b8e-5d21-4fba-a48a-e3f4c73c737e",
   "metadata": {},
   "source": [
    "`-` operator is used to substract 2 numeric variables"
   ]
  },
  {
   "cell_type": "code",
   "execution_count": 6,
   "id": "b702f7eb-e07c-41fc-934a-1d3b65be58d5",
   "metadata": {},
   "outputs": [
    {
     "name": "stdout",
     "output_type": "stream",
     "text": [
      "43 - 12 =  31\n"
     ]
    }
   ],
   "source": [
    "#let's say we have two variables of numeric type var1 and var2\n",
    "var1=12\n",
    "var2=43\n",
    "print(var2,\"-\",var1,\"= \",var2-var1)"
   ]
  },
  {
   "cell_type": "markdown",
   "id": "08facfe4-c4a4-446f-9314-5e6eba2338fd",
   "metadata": {},
   "source": [
    "`*` operator is used to multiply 2 or more operands .In case of numeric variables it amultiply the numeric variables,and in case of string variable it as a\n",
    "concatination operator where string variale will be added one after the other"
   ]
  },
  {
   "cell_type": "code",
   "execution_count": 7,
   "id": "64304ffc-e8fe-4a57-8ba1-3f526970a765",
   "metadata": {},
   "outputs": [
    {
     "name": "stdout",
     "output_type": "stream",
     "text": [
      "43 * 12 =  516\n"
     ]
    }
   ],
   "source": [
    "#let's say we have two variables of numeric type var1 and var2\n",
    "var1=12\n",
    "var2=43\n",
    "print(var2,\"*\",var1,\"= \",var2*var1)"
   ]
  },
  {
   "cell_type": "code",
   "execution_count": 8,
   "id": "b9013d6b-9f0d-488a-a441-ebca2b3657a6",
   "metadata": {},
   "outputs": [
    {
     "name": "stdout",
     "output_type": "stream",
     "text": [
      "Hi Hi Hi \n"
     ]
    }
   ],
   "source": [
    "#let's say we have variable of string type var1\n",
    "var1=\"Hi \"\n",
    "multi=3 # it will multiply string upto given value of times one after the other\n",
    "print(var1*multi) # it acts as concatination operator here"
   ]
  },
  {
   "cell_type": "markdown",
   "id": "83f4ec62-b262-4f49-a49d-d42828616d37",
   "metadata": {},
   "source": [
    "`/` operator is used to divide 2 numeric variables will return float value as output value"
   ]
  },
  {
   "cell_type": "code",
   "execution_count": 9,
   "id": "eb0e13ec-befe-46c0-8b05-5f3a3950414c",
   "metadata": {},
   "outputs": [
    {
     "name": "stdout",
     "output_type": "stream",
     "text": [
      "75 / 34 =  2.2058823529411766\n"
     ]
    }
   ],
   "source": [
    "#let's say we have two variables of numeric type var1 and var2\n",
    "var1=75\n",
    "var2=34\n",
    "print(var1,\"/\",var2,\"= \",var1/var2)"
   ]
  },
  {
   "cell_type": "markdown",
   "id": "e632e294-db83-4fb1-9d7a-afdc367e94f9",
   "metadata": {},
   "source": [
    "`//` operator is used to divide 2 numeric variables will return int value as output where the return value will be the floor value of `/`\n",
    "means it will return the quotient value\n"
   ]
  },
  {
   "cell_type": "code",
   "execution_count": 10,
   "id": "49019186-f0ef-470f-9e83-890076a09488",
   "metadata": {},
   "outputs": [
    {
     "name": "stdout",
     "output_type": "stream",
     "text": [
      "75 // 34 =  2\n"
     ]
    }
   ],
   "source": [
    "#let's say we have two variables of numeric type var1 and var2\n",
    "var1=75\n",
    "var2=34\n",
    "print(var1,\"//\",var2,\"= \",var1//var2)"
   ]
  },
  {
   "cell_type": "markdown",
   "id": "63477abf-2e66-4998-89a7-ac1a631840b1",
   "metadata": {},
   "source": [
    "`%` operator is used to divide 2 numeric variables will return the remainder value of the division\n"
   ]
  },
  {
   "cell_type": "code",
   "execution_count": 11,
   "id": "8849bdd8-2e32-41c2-bfe1-f39d4053355d",
   "metadata": {},
   "outputs": [
    {
     "name": "stdout",
     "output_type": "stream",
     "text": [
      "75 % 34 =  7\n"
     ]
    }
   ],
   "source": [
    "#let's say we have two variables of numeric type var1 and var2\n",
    "var1=75\n",
    "var2=34\n",
    "print(var1,\"%\",var2,\"= \",var1%var2)"
   ]
  },
  {
   "cell_type": "markdown",
   "id": "f37a25d8-6259-4a24-9f7a-7c4f718020d4",
   "metadata": {},
   "source": [
    "`**` exponential operator is used to create the exponential value of a vatiable"
   ]
  },
  {
   "cell_type": "code",
   "execution_count": 12,
   "id": "dff2d0bb-a720-441f-9344-40209e019267",
   "metadata": {},
   "outputs": [
    {
     "name": "stdout",
     "output_type": "stream",
     "text": [
      "5 ** 3 =  125\n"
     ]
    }
   ],
   "source": [
    "#let's say we have variable of numeric type var1 \n",
    "var1=5\n",
    "expo=3 # power value\n",
    "print(var1,\"**\",expo,\"= \",var1**expo)"
   ]
  },
  {
   "cell_type": "raw",
   "id": "8038db6d-5837-48b6-8e62-49f3494778a7",
   "metadata": {},
   "source": [
    "b.Write a Python script to calculate the area of a rectangle using variables `length` and `width` with values 5 and 10, respectively. Use the multiplication operator."
   ]
  },
  {
   "cell_type": "code",
   "execution_count": 13,
   "id": "954abc9d-11e4-44aa-8044-12dbb0bd56f5",
   "metadata": {},
   "outputs": [
    {
     "name": "stdout",
     "output_type": "stream",
     "text": [
      "Area of rectangle of length: 5 unit and Width: 10 unit is:  50  unit^2\n"
     ]
    }
   ],
   "source": [
    "#Area of a rectangle:\n",
    "length_given=5\n",
    "width_given=10\n",
    "print(\"Area of rectangle of length:\",length_given,\"unit and Width:\",width_given,\"unit is: \",length_given*width_given,\" unit^2\")"
   ]
  },
  {
   "cell_type": "raw",
   "id": "c1c269ce-628d-447e-8c1c-73147a542adf",
   "metadata": {},
   "source": [
    "4.Comparison and Logical Operators"
   ]
  },
  {
   "cell_type": "raw",
   "id": "5d34afad-b5a6-4f34-9131-268b264663e7",
   "metadata": {},
   "source": [
    "a.Explain the following comparison operators with examples:\n",
    "1.Equal to (`==`)\n",
    "2.Not equal to (`!=`)\n",
    "3.Greater than (`>`)\n",
    "4.Less than (`<`)\n",
    "5.Greater than or equal to (`>=`)\n",
    "6.Less than or equal to (`<=`)"
   ]
  },
  {
   "cell_type": "markdown",
   "id": "8000478e-bbaa-47b3-9462-d66fca7b1ee8",
   "metadata": {},
   "source": [
    "`==` operator is used to compare two variable values are equal or not .\n",
    "`!=` operator is used to compare two variable values have different values or not.\n",
    "`>` operator is used to check whether one of the variable is greater than the other variable or not\n",
    "`>=` operator is used to check whether one of the variable is greater than or equal to the other variable or not\n",
    "`<` operator is used to check whether one of the variable is less than the other variable or not\n",
    "`<=` operator is used to check whether one of the variable is less than or equal to the other variable or not\n",
    "\n",
    "All of the opeartor mentioned above returned True or False As its o/p value\n",
    "\n"
   ]
  },
  {
   "cell_type": "code",
   "execution_count": 14,
   "id": "125d543f-a379-476b-8282-e48aa12caead",
   "metadata": {},
   "outputs": [
    {
     "name": "stdout",
     "output_type": "stream",
     "text": [
      "87 > 32 : True\n",
      "87 >= 32 : True\n",
      "87 < 32 : False\n",
      "32 <= 87 : True\n",
      "87 == 32 : False\n",
      "87 != 32 : True\n"
     ]
    }
   ],
   "source": [
    "# lets consider we have two variables num1 and num2 with a value of 87,32 respectively\n",
    "num1,num2=87,32\n",
    "print(num1,'>',num2,':',num1>num2)\n",
    "print(num1,'>=',num2,':',num1>=num2)\n",
    "print(num1,'<',num2,':',num1<num2)\n",
    "print(num2,'<=',num1,':',num2<=num1)\n",
    "print(num1,'==',num2,':',num1==num2)\n",
    "print(num1,'!=',num2,':',num1!=num2)"
   ]
  },
  {
   "cell_type": "raw",
   "id": "674439b1-0521-45fa-ac68-84a9e13fdd32",
   "metadata": {},
   "source": [
    "b.Using logical operators (`and`, `or`, `not`), write a Python script that checks if a number is positive and even."
   ]
  },
  {
   "cell_type": "code",
   "execution_count": 15,
   "id": "5721f616-06ce-4ecf-9797-589cbd5f8275",
   "metadata": {},
   "outputs": [
    {
     "name": "stdout",
     "output_type": "stream",
     "text": [
      "10  is positive and even\n"
     ]
    }
   ],
   "source": [
    "#let's consider two variable num1=7\n",
    "num1=10\n",
    "if not(num1>0):\n",
    "    print(num1,\"is a negetive number\")\n",
    "elif (num1>0) and (num1%2==0):\n",
    "    print(num1,\" is positive and even\")\n",
    "elif (num1>0) or (num1%2==0):\n",
    "    print(num1,\"is either positive or even\")\n",
    "else:\n",
    "    print()\n"
   ]
  },
  {
   "cell_type": "raw",
   "id": "a6652484-b840-4d90-9ea2-56ec23e2b64c",
   "metadata": {},
   "source": [
    "5.Type Casting in Python"
   ]
  },
  {
   "cell_type": "raw",
   "id": "5b128df9-9fec-4dbf-9192-4cd22985fd07",
   "metadata": {},
   "source": [
    "a.What is type casting? Explain the difference between implicit and explicit type casting with examples."
   ]
  },
  {
   "cell_type": "markdown",
   "id": "db2f6bb7-a50c-44f3-bc96-b36d9125a50f",
   "metadata": {},
   "source": [
    "Type casting is conversion of one data type to other dta type in python.\n",
    "There are two types of type casting available in python\n",
    "1.implicit type casting 2.explicit type casting\n",
    "in case of implicit type casting python automatically converts the data type and in case of explicit type casting we have to manually convert the data type we need."
   ]
  },
  {
   "cell_type": "code",
   "execution_count": 16,
   "id": "eb2252c0-5edf-4bb4-95cc-cc5fae5b285e",
   "metadata": {},
   "outputs": [
    {
     "name": "stdout",
     "output_type": "stream",
     "text": [
      "29.35\n"
     ]
    }
   ],
   "source": [
    "# lets say we have a integer variable units and a float variable price_per_unit \n",
    "units=5\n",
    "price_per_unit=5.87\n",
    "# Total price=units* price_per_unit\n",
    "total_price=units*price_per_unit # o/p will be float value not a integer \n",
    "print(total_price)\n",
    "# the above opertion  of type casting is done by python internally so it is called implicit type casting"
   ]
  },
  {
   "cell_type": "code",
   "execution_count": 18,
   "id": "4620308c-4d86-4709-b003-ed2e98527130",
   "metadata": {},
   "outputs": [
    {
     "name": "stdin",
     "output_type": "stream",
     "text": [
      "Enter the integer value 7\n"
     ]
    },
    {
     "name": "stdout",
     "output_type": "stream",
     "text": [
      "7 is of type <class 'str'>\n"
     ]
    },
    {
     "name": "stdin",
     "output_type": "stream",
     "text": [
      "Enter The integer value 9\n"
     ]
    },
    {
     "name": "stdout",
     "output_type": "stream",
     "text": [
      "9 is of type <class 'int'>\n"
     ]
    }
   ],
   "source": [
    "#now lets consider another example where user will input dynmaic integer value using input()\n",
    "\n",
    "var_int=input(\"Enter the integer value\")\n",
    "''' by default the above opertion stor string value in var_int,we can't do any numeric operation on this variable as it is string value\n",
    "So we need to convert manually the value coming form input() into integer value\n",
    "'''\n",
    "print(var_int, 'is of type',type(var_int))\n",
    "\n",
    "var_int_new=int(input(\"Enter The integer value\"))\n",
    "print(var_int_new, 'is of type',type(var_int_new))                      "
   ]
  },
  {
   "cell_type": "raw",
   "id": "2b292184-17a9-48f4-82bd-cca5d237858d",
   "metadata": {},
   "source": [
    "6.Practical Exercise: Mini Calculator"
   ]
  },
  {
   "cell_type": "raw",
   "id": "24ae73b4-9c7b-4413-8945-c096a61b1540",
   "metadata": {},
   "source": [
    "Write a Python script that asks the user to input two numbers and then:\n",
    "1.Adds the two numbers and prints the result.\n",
    "2.Subtracts the second number from the first and prints the result.\n",
    "3.Multiplies the two numbers and prints the result.\n",
    "4.Divides the first number by the second and prints the result (handle division by zero).\n",
    "5.Converts the sum of the numbers to a string and prints the type of the result."
   ]
  },
  {
   "cell_type": "code",
   "execution_count": 19,
   "id": "86629781-1259-408d-9b94-17ef988b1405",
   "metadata": {},
   "outputs": [
    {
     "name": "stdin",
     "output_type": "stream",
     "text": [
      "Enter the first number 6\n",
      "Enter the second number 9\n"
     ]
    },
    {
     "name": "stdout",
     "output_type": "stream",
     "text": [
      "6 + 9 = 15\n",
      "9 - 6 = 3\n",
      "9 * 6 = 54\n",
      "6 / 9 = 0.6666666666666666\n",
      "6 + 9 = 15\n",
      "<class 'str'>\n"
     ]
    }
   ],
   "source": [
    "num1=int(input(\"Enter the first number\"))\n",
    "num2=int(input(\"Enter the second number\"))\n",
    "\n",
    "print(num1,'+',num2,'=',num1+num2)\n",
    "print(num2,'-',num1,'=',num2-num1)\n",
    "print(num2,'*',num1,'=',num2*num1)\n",
    "\n",
    "if num2==0 :\n",
    "    print(\"Can't divide as num2 value is 0\")\n",
    "else:\n",
    "    print(num1,'/',num2,'=',num1/num2)\n",
    "\n",
    "print(num1,'+',num2,'=',str(num1+num2))\n",
    "print(type(str(num1+num2)))"
   ]
  },
  {
   "cell_type": "code",
   "execution_count": null,
   "id": "c7326840-8319-45f4-b624-b46a77a888c1",
   "metadata": {},
   "outputs": [],
   "source": []
  }
 ],
 "metadata": {
  "kernelspec": {
   "display_name": "Python 3 (ipykernel)",
   "language": "python",
   "name": "python3"
  },
  "language_info": {
   "codemirror_mode": {
    "name": "ipython",
    "version": 3
   },
   "file_extension": ".py",
   "mimetype": "text/x-python",
   "name": "python",
   "nbconvert_exporter": "python",
   "pygments_lexer": "ipython3",
   "version": "3.12.7"
  }
 },
 "nbformat": 4,
 "nbformat_minor": 5
}
