{
 "cells": [
  {
   "cell_type": "markdown",
   "id": "437e6c9b-adee-48a8-a2e9-c82a7ecf6409",
   "metadata": {},
   "source": [
    "<h1>1.LIST</h1>"
   ]
  },
  {
   "cell_type": "code",
   "execution_count": 1,
   "id": "763d9fb1-347c-4add-b196-c28113ad2d5f",
   "metadata": {},
   "outputs": [],
   "source": [
    "list_mine=[]#Blank list"
   ]
  },
  {
   "cell_type": "code",
   "execution_count": 2,
   "id": "5ec4987e-8827-4f98-862f-dcdda4184d7b",
   "metadata": {},
   "outputs": [
    {
     "data": {
      "text/plain": [
       "[]"
      ]
     },
     "execution_count": 2,
     "metadata": {},
     "output_type": "execute_result"
    }
   ],
   "source": [
    "list_mine"
   ]
  },
  {
   "cell_type": "code",
   "execution_count": 3,
   "id": "78779259-3b6f-4e40-9549-2e0dbb813094",
   "metadata": {},
   "outputs": [
    {
     "data": {
      "text/plain": [
       "list"
      ]
     },
     "execution_count": 3,
     "metadata": {},
     "output_type": "execute_result"
    }
   ],
   "source": [
    "type(list_mine)"
   ]
  },
  {
   "cell_type": "code",
   "execution_count": 4,
   "id": "59984e71-3181-4eb9-8b59-ee7d75793343",
   "metadata": {},
   "outputs": [],
   "source": [
    "list_mine=[1,2,3,4,5,6,7,8,9,10]"
   ]
  },
  {
   "cell_type": "code",
   "execution_count": 5,
   "id": "f58e9ecb-0bf6-43c4-9659-b6e4fb07789e",
   "metadata": {},
   "outputs": [
    {
     "data": {
      "text/plain": [
       "10"
      ]
     },
     "execution_count": 5,
     "metadata": {},
     "output_type": "execute_result"
    }
   ],
   "source": [
    "len(list_mine)# Gives length of the list created"
   ]
  },
  {
   "cell_type": "markdown",
   "id": "0948388b-29cc-4233-9a7b-93e9acac3f49",
   "metadata": {},
   "source": [
    "<h3>List Indexing</h3>"
   ]
  },
  {
   "cell_type": "code",
   "execution_count": 6,
   "id": "344338b6-0db0-4895-abaf-42fdd5f35e16",
   "metadata": {},
   "outputs": [],
   "source": [
    "#indexing starts at 0 th position"
   ]
  },
  {
   "cell_type": "code",
   "execution_count": 7,
   "id": "c2fd9ff7-4dfa-4bce-9aca-6b303ee8cf95",
   "metadata": {},
   "outputs": [
    {
     "data": {
      "text/plain": [
       "1"
      ]
     },
     "execution_count": 7,
     "metadata": {},
     "output_type": "execute_result"
    }
   ],
   "source": [
    "list_mine[0]# value at 0th index"
   ]
  },
  {
   "cell_type": "code",
   "execution_count": 8,
   "id": "4e4168f7-b64a-4c05-aeda-e850e57d5903",
   "metadata": {},
   "outputs": [
    {
     "data": {
      "text/plain": [
       "6"
      ]
     },
     "execution_count": 8,
     "metadata": {},
     "output_type": "execute_result"
    }
   ],
   "source": [
    "list_mine[5]# value at 5th index or 6th position"
   ]
  },
  {
   "cell_type": "code",
   "execution_count": 9,
   "id": "bf93db68-f5af-4da6-b906-eba832866d6c",
   "metadata": {},
   "outputs": [
    {
     "ename": "IndexError",
     "evalue": "list index out of range",
     "output_type": "error",
     "traceback": [
      "\u001b[1;31m---------------------------------------------------------------------------\u001b[0m",
      "\u001b[1;31mIndexError\u001b[0m                                Traceback (most recent call last)",
      "Cell \u001b[1;32mIn[9], line 1\u001b[0m\n\u001b[1;32m----> 1\u001b[0m list_mine[\u001b[38;5;241m80\u001b[39m]\n",
      "\u001b[1;31mIndexError\u001b[0m: list index out of range"
     ]
    }
   ],
   "source": [
    "list_mine[80] # in will through Index error as the index mentioned here is more than the no of items present in list"
   ]
  },
  {
   "cell_type": "code",
   "execution_count": 10,
   "id": "573a32d8-08d6-47c2-bb02-4d8ebf6ef98c",
   "metadata": {},
   "outputs": [],
   "source": [
    "#indexing can also be done using -ve statring at -1 from last"
   ]
  },
  {
   "cell_type": "code",
   "execution_count": 11,
   "id": "901eb9e4-d10f-4fea-9ee6-d98c32289db5",
   "metadata": {},
   "outputs": [
    {
     "data": {
      "text/plain": [
       "10"
      ]
     },
     "execution_count": 11,
     "metadata": {},
     "output_type": "execute_result"
    }
   ],
   "source": [
    "list_mine[-1] # last index value"
   ]
  },
  {
   "cell_type": "code",
   "execution_count": 12,
   "id": "13d3bf89-08bb-4c17-b63a-64dd587b63e0",
   "metadata": {},
   "outputs": [
    {
     "data": {
      "text/plain": [
       "7"
      ]
     },
     "execution_count": 12,
     "metadata": {},
     "output_type": "execute_result"
    }
   ],
   "source": [
    "list_mine[-4]# it is +6 index value as well as -4 index value"
   ]
  },
  {
   "cell_type": "markdown",
   "id": "fda1900d-6663-47c4-b0ba-4c451cd80848",
   "metadata": {},
   "source": [
    "<h3>List Slicing</h3>"
   ]
  },
  {
   "cell_type": "code",
   "execution_count": 13,
   "id": "47d18e18-da47-4400-884c-e7b12f67a9be",
   "metadata": {},
   "outputs": [],
   "source": [
    "#list_name[start_index:end_index:step_value] by default step value is +1 ,end_index is exclusive"
   ]
  },
  {
   "cell_type": "code",
   "execution_count": 14,
   "id": "c05d7a58-3b61-4bb7-99e8-649d40019ebe",
   "metadata": {},
   "outputs": [
    {
     "data": {
      "text/plain": [
       "[1, 2, 3, 4]"
      ]
     },
     "execution_count": 14,
     "metadata": {},
     "output_type": "execute_result"
    }
   ],
   "source": [
    "list_mine[0:4] # it will return all the items till 4th index but excluding 4th"
   ]
  },
  {
   "cell_type": "code",
   "execution_count": 15,
   "id": "6127bd92-9e02-4859-9c9b-e64acb033a8f",
   "metadata": {},
   "outputs": [
    {
     "data": {
      "text/plain": [
       "[1, 2, 3, 4, 5, 6, 7, 8, 9, 10]"
      ]
     },
     "execution_count": 15,
     "metadata": {},
     "output_type": "execute_result"
    }
   ],
   "source": [
    "list_mine[0:80] # it will not genearte error just like indexing ,it will print all the elemnts till 80th element even if 80th not present,so ihere all elements"
   ]
  },
  {
   "cell_type": "code",
   "execution_count": 16,
   "id": "5344617c-65a6-4534-a18f-a63dd0bc14ab",
   "metadata": {},
   "outputs": [
    {
     "data": {
      "text/plain": [
       "[1, 4, 7]"
      ]
     },
     "execution_count": 16,
     "metadata": {},
     "output_type": "execute_result"
    }
   ],
   "source": [
    "list_mine[0:8:3] # all the elements ill 8th excluding 8th with a step value of 3"
   ]
  },
  {
   "cell_type": "code",
   "execution_count": 17,
   "id": "b88d5967-6a4d-4a60-9852-a8569380b84a",
   "metadata": {},
   "outputs": [
    {
     "data": {
      "text/plain": [
       "[]"
      ]
     },
     "execution_count": 17,
     "metadata": {},
     "output_type": "execute_result"
    }
   ],
   "source": [
    "list_mine[1:8:-3] #it will return empy list,you are traversing positive side index but step value is -ve"
   ]
  },
  {
   "cell_type": "code",
   "execution_count": 18,
   "id": "81256bca-838b-40f2-9f46-58534b53e73a",
   "metadata": {},
   "outputs": [
    {
     "data": {
      "text/plain": [
       "[]"
      ]
     },
     "execution_count": 18,
     "metadata": {},
     "output_type": "execute_result"
    }
   ],
   "source": [
    "list_mine[-1:-7:2] # it will return [] as traversing in the -ve side and step value +ve"
   ]
  },
  {
   "cell_type": "code",
   "execution_count": 19,
   "id": "6b7e68f0-877a-4936-b81d-a64f575b4e1e",
   "metadata": {},
   "outputs": [
    {
     "data": {
      "text/plain": [
       "[10, 8, 6]"
      ]
     },
     "execution_count": 19,
     "metadata": {},
     "output_type": "execute_result"
    }
   ],
   "source": [
    "list_mine[-1:-7:-2] # return all item from list with a step of -2"
   ]
  },
  {
   "cell_type": "code",
   "execution_count": 20,
   "id": "fef472b2-2da6-4801-a8ca-cb95f315a593",
   "metadata": {},
   "outputs": [
    {
     "data": {
      "text/plain": [
       "[2, 4, 6]"
      ]
     },
     "execution_count": 20,
     "metadata": {},
     "output_type": "execute_result"
    }
   ],
   "source": [
    "list_mine[1:-4:2] # it will return all the elemnts till -4 index with a step of 2"
   ]
  },
  {
   "cell_type": "code",
   "execution_count": 21,
   "id": "0b38b997-5c50-4f8d-a068-5532df9a3b7d",
   "metadata": {},
   "outputs": [
    {
     "data": {
      "text/plain": [
       "[1, 3, 5, 7]"
      ]
     },
     "execution_count": 21,
     "metadata": {},
     "output_type": "execute_result"
    }
   ],
   "source": [
    "list_mine[:7:2] #all the elements till 7 th index start at 0 "
   ]
  },
  {
   "cell_type": "code",
   "execution_count": 22,
   "id": "29246811-a589-4a0c-8967-567e3da67400",
   "metadata": {},
   "outputs": [
    {
     "data": {
      "text/plain": [
       "[10]"
      ]
     },
     "execution_count": 22,
     "metadata": {},
     "output_type": "execute_result"
    }
   ],
   "source": [
    "list_mine[:7:-2] # as start is not mentioned by default it should be zero if no step value or positive step value but here as -ve step value is there start position would be from -ve index"
   ]
  },
  {
   "cell_type": "code",
   "execution_count": 23,
   "id": "b630af7a-b745-49fd-9e6d-f894ed137b7c",
   "metadata": {},
   "outputs": [
    {
     "data": {
      "text/plain": [
       "[1]"
      ]
     },
     "execution_count": 23,
     "metadata": {},
     "output_type": "execute_result"
    }
   ],
   "source": [
    "list_mine[0::-2]#no end position,but -ve step value,so it will start print form 0 towards left side,but no elements there so only 0 th position value"
   ]
  },
  {
   "cell_type": "code",
   "execution_count": 24,
   "id": "66a8c1b1-05df-43e6-abfb-4c3eac9108f5",
   "metadata": {},
   "outputs": [
    {
     "data": {
      "text/plain": [
       "[4, 2]"
      ]
     },
     "execution_count": 24,
     "metadata": {},
     "output_type": "execute_result"
    }
   ],
   "source": [
    "list_mine[3::-2]# start at 3rd index toward left side with a step value of -2"
   ]
  },
  {
   "cell_type": "code",
   "execution_count": 25,
   "id": "a3d53702-8c64-4383-9206-02c673c2eefd",
   "metadata": {},
   "outputs": [
    {
     "data": {
      "text/plain": [
       "[1, 4, 7, 10]"
      ]
     },
     "execution_count": 25,
     "metadata": {},
     "output_type": "execute_result"
    }
   ],
   "source": [
    "list_mine[0::3]# start at index 0 with an step value 3"
   ]
  },
  {
   "cell_type": "markdown",
   "id": "a0d98b43-6f12-492d-b067-17ade7a35c15",
   "metadata": {},
   "source": [
    "<h3>LIST OPERATIONS</h3>"
   ]
  },
  {
   "cell_type": "code",
   "execution_count": 26,
   "id": "f7f75dc2-1cd8-4f58-99ca-a2974ad300ac",
   "metadata": {},
   "outputs": [],
   "source": [
    "list_mine.append('Append')# append function add item after the last index"
   ]
  },
  {
   "cell_type": "code",
   "execution_count": 27,
   "id": "0c9eda28-e0e8-4a33-b647-83de87499bec",
   "metadata": {},
   "outputs": [
    {
     "data": {
      "text/plain": [
       "[1, 2, 3, 4, 5, 6, 7, 8, 9, 10, 'Append']"
      ]
     },
     "execution_count": 27,
     "metadata": {},
     "output_type": "execute_result"
    }
   ],
   "source": [
    "list_mine"
   ]
  },
  {
   "cell_type": "code",
   "execution_count": 28,
   "id": "c400e4ab-55cf-45a4-9d1d-fc9e547b8b63",
   "metadata": {},
   "outputs": [],
   "source": [
    "list_mine.insert(3,\"Index\") # it will add the item at 3rd index shifts the remaing items toward right"
   ]
  },
  {
   "cell_type": "code",
   "execution_count": 29,
   "id": "d74e13e1-1bc5-487a-8b2e-790b2b09f67a",
   "metadata": {},
   "outputs": [
    {
     "data": {
      "text/plain": [
       "[1, 2, 3, 'Index', 4, 5, 6, 7, 8, 9, 10, 'Append']"
      ]
     },
     "execution_count": 29,
     "metadata": {},
     "output_type": "execute_result"
    }
   ],
   "source": [
    "list_mine"
   ]
  },
  {
   "cell_type": "code",
   "execution_count": 30,
   "id": "b94e6e2b-cdd9-41a4-858d-4f44a6768ba4",
   "metadata": {},
   "outputs": [],
   "source": [
    "new_list=[\"Alpha\",\"Bingo\",\"Charlie\"]"
   ]
  },
  {
   "cell_type": "code",
   "execution_count": 31,
   "id": "687f25f4-4b13-4e8e-a32e-0bc50cbf89d5",
   "metadata": {},
   "outputs": [],
   "source": [
    "list_mine.extend(new_list)# it will unwrap the list and add it towards end"
   ]
  },
  {
   "cell_type": "code",
   "execution_count": 32,
   "id": "eb3ce88f-f41b-434b-ac43-db09c6d803d4",
   "metadata": {},
   "outputs": [
    {
     "data": {
      "text/plain": [
       "[1, 2, 3, 'Index', 4, 5, 6, 7, 8, 9, 10, 'Append', 'Alpha', 'Bingo', 'Charlie']"
      ]
     },
     "execution_count": 32,
     "metadata": {},
     "output_type": "execute_result"
    }
   ],
   "source": [
    "list_mine"
   ]
  },
  {
   "cell_type": "code",
   "execution_count": 33,
   "id": "123de706-b0dc-48fd-b372-f2430a2c1f1c",
   "metadata": {},
   "outputs": [],
   "source": [
    "# but if we use append here it won't unwrap it will add the list as a whole at the end"
   ]
  },
  {
   "cell_type": "code",
   "execution_count": 34,
   "id": "0392dc32-b8b9-411f-986a-3dfacaab45ae",
   "metadata": {},
   "outputs": [],
   "source": [
    "list_mine.append(new_list)"
   ]
  },
  {
   "cell_type": "code",
   "execution_count": 35,
   "id": "8636ef66-8f75-4578-963c-ff7421bca6e9",
   "metadata": {},
   "outputs": [
    {
     "data": {
      "text/plain": [
       "[1,\n",
       " 2,\n",
       " 3,\n",
       " 'Index',\n",
       " 4,\n",
       " 5,\n",
       " 6,\n",
       " 7,\n",
       " 8,\n",
       " 9,\n",
       " 10,\n",
       " 'Append',\n",
       " 'Alpha',\n",
       " 'Bingo',\n",
       " 'Charlie',\n",
       " ['Alpha', 'Bingo', 'Charlie']]"
      ]
     },
     "execution_count": 35,
     "metadata": {},
     "output_type": "execute_result"
    }
   ],
   "source": [
    "list_mine"
   ]
  },
  {
   "cell_type": "code",
   "execution_count": 36,
   "id": "3b6fe54d-b0a4-4d75-b1d4-88a93d2fbd23",
   "metadata": {},
   "outputs": [
    {
     "data": {
      "text/plain": [
       "12"
      ]
     },
     "execution_count": 36,
     "metadata": {},
     "output_type": "execute_result"
    }
   ],
   "source": [
    "list_mine.index('Alpha') # it will return the index value of item ,if there is duplicate it will return the 1st index value"
   ]
  },
  {
   "cell_type": "code",
   "execution_count": 30,
   "id": "7a233a2f-2a78-4b2d-a905-5cb351b13d56",
   "metadata": {},
   "outputs": [
    {
     "data": {
      "text/plain": [
       "0"
      ]
     },
     "execution_count": 30,
     "metadata": {},
     "output_type": "execute_result"
    }
   ],
   "source": [
    "list_mine.count('7') #return the count of specific item in the list"
   ]
  },
  {
   "cell_type": "code",
   "execution_count": 37,
   "id": "f64cdd14-eeaa-46ab-9cd5-6984947270ad",
   "metadata": {},
   "outputs": [
    {
     "data": {
      "text/plain": [
       "['Alpha', 'Bingo', 'Charlie']"
      ]
     },
     "execution_count": 37,
     "metadata": {},
     "output_type": "execute_result"
    }
   ],
   "source": [
    "list_mine.pop()# remove item from end position and it will show the element that is removed we can give position no here by defalut last"
   ]
  },
  {
   "cell_type": "code",
   "execution_count": 38,
   "id": "e8ba817a-23f9-4d7e-824e-5eb012473b6c",
   "metadata": {},
   "outputs": [],
   "source": [
    " list_mine.remove(6)# specific item to be removed,if duplicate present it will remove the 1st ,if not found will throw an error"
   ]
  },
  {
   "cell_type": "code",
   "execution_count": 39,
   "id": "cefc9422-16e6-46d3-aa12-4264aedf1a13",
   "metadata": {},
   "outputs": [
    {
     "data": {
      "text/plain": [
       "[1, 2, 3, 'Index', 4, 5, 7, 8, 9, 10, 'Append', 'Alpha', 'Bingo', 'Charlie']"
      ]
     },
     "execution_count": 39,
     "metadata": {},
     "output_type": "execute_result"
    }
   ],
   "source": [
    "list_mine"
   ]
  },
  {
   "cell_type": "code",
   "execution_count": 40,
   "id": "0fa47754-e095-4259-9ce3-75855542879e",
   "metadata": {},
   "outputs": [],
   "source": [
    "a_copy=list_mine # any changes in the original list affects the new_list"
   ]
  },
  {
   "cell_type": "code",
   "execution_count": 41,
   "id": "5b055935-6d54-4645-b984-c26edc0a28d7",
   "metadata": {},
   "outputs": [
    {
     "data": {
      "text/plain": [
       "[1, 2, 3, 'Index', 4, 5, 7, 8, 9, 10, 'Append', 'Alpha', 'Bingo', 'Charlie']"
      ]
     },
     "execution_count": 41,
     "metadata": {},
     "output_type": "execute_result"
    }
   ],
   "source": [
    "a_copy"
   ]
  },
  {
   "cell_type": "code",
   "execution_count": 42,
   "id": "4698e65a-8470-440c-a31e-ff6f3a6b8161",
   "metadata": {},
   "outputs": [],
   "source": [
    "list_mine.append(77)"
   ]
  },
  {
   "cell_type": "code",
   "execution_count": 43,
   "id": "2b5eff0c-bc8c-4825-9257-1e4f1b151c42",
   "metadata": {},
   "outputs": [
    {
     "data": {
      "text/plain": [
       "[1,\n",
       " 2,\n",
       " 3,\n",
       " 'Index',\n",
       " 4,\n",
       " 5,\n",
       " 7,\n",
       " 8,\n",
       " 9,\n",
       " 10,\n",
       " 'Append',\n",
       " 'Alpha',\n",
       " 'Bingo',\n",
       " 'Charlie',\n",
       " 77]"
      ]
     },
     "execution_count": 43,
     "metadata": {},
     "output_type": "execute_result"
    }
   ],
   "source": [
    "list_mine"
   ]
  },
  {
   "cell_type": "code",
   "execution_count": 44,
   "id": "02255409-7a05-4630-b637-38d63653a89f",
   "metadata": {},
   "outputs": [
    {
     "data": {
      "text/plain": [
       "[1,\n",
       " 2,\n",
       " 3,\n",
       " 'Index',\n",
       " 4,\n",
       " 5,\n",
       " 7,\n",
       " 8,\n",
       " 9,\n",
       " 10,\n",
       " 'Append',\n",
       " 'Alpha',\n",
       " 'Bingo',\n",
       " 'Charlie',\n",
       " 77]"
      ]
     },
     "execution_count": 44,
     "metadata": {},
     "output_type": "execute_result"
    }
   ],
   "source": [
    "a_copy"
   ]
  },
  {
   "cell_type": "code",
   "execution_count": 45,
   "id": "e224d851-0c7a-4c81-a534-95476e767a51",
   "metadata": {},
   "outputs": [],
   "source": [
    "b_copy=new_list.copy() # any changes in the original won't affect the new list"
   ]
  },
  {
   "cell_type": "code",
   "execution_count": 46,
   "id": "80f4e4e2-5611-4c41-97b9-a37b57831c14",
   "metadata": {},
   "outputs": [],
   "source": [
    "new_list.append(43)"
   ]
  },
  {
   "cell_type": "code",
   "execution_count": 47,
   "id": "dc29ae4b-2de3-4a0b-8310-480982ae99e1",
   "metadata": {},
   "outputs": [
    {
     "data": {
      "text/plain": [
       "['Alpha', 'Bingo', 'Charlie', 43]"
      ]
     },
     "execution_count": 47,
     "metadata": {},
     "output_type": "execute_result"
    }
   ],
   "source": [
    "new_list"
   ]
  },
  {
   "cell_type": "code",
   "execution_count": 48,
   "id": "cb230c61-464f-4aa0-81bf-92f8e480b0e0",
   "metadata": {},
   "outputs": [
    {
     "data": {
      "text/plain": [
       "['Alpha', 'Bingo', 'Charlie']"
      ]
     },
     "execution_count": 48,
     "metadata": {},
     "output_type": "execute_result"
    }
   ],
   "source": [
    "b_copy"
   ]
  },
  {
   "cell_type": "code",
   "execution_count": 49,
   "id": "0422f5b9-b366-4896-b5cd-f8959618b676",
   "metadata": {},
   "outputs": [],
   "source": [
    "list_mine.clear() # it will clear all the elements of the list and make it empty"
   ]
  },
  {
   "cell_type": "code",
   "execution_count": 50,
   "id": "24e21226-2ee6-448a-82e2-433c7eb434ec",
   "metadata": {},
   "outputs": [
    {
     "data": {
      "text/plain": [
       "[]"
      ]
     },
     "execution_count": 50,
     "metadata": {},
     "output_type": "execute_result"
    }
   ],
   "source": [
    "list_mine"
   ]
  },
  {
   "cell_type": "code",
   "execution_count": 51,
   "id": "3ce4911a-8093-4ed1-b468-1e391504c664",
   "metadata": {},
   "outputs": [
    {
     "ename": "TypeError",
     "evalue": "'<' not supported between instances of 'int' and 'str'",
     "output_type": "error",
     "traceback": [
      "\u001b[1;31m---------------------------------------------------------------------------\u001b[0m",
      "\u001b[1;31mTypeError\u001b[0m                                 Traceback (most recent call last)",
      "Cell \u001b[1;32mIn[51], line 1\u001b[0m\n\u001b[1;32m----> 1\u001b[0m new_list\u001b[38;5;241m.\u001b[39msort()\n",
      "\u001b[1;31mTypeError\u001b[0m: '<' not supported between instances of 'int' and 'str'"
     ]
    }
   ],
   "source": [
    "new_list.sort() # if combination of datatype are present it can't sort,it will throw an error"
   ]
  },
  {
   "cell_type": "code",
   "execution_count": 52,
   "id": "22dcb2fe-a571-49e7-9dc7-0816ac9b9e62",
   "metadata": {},
   "outputs": [
    {
     "data": {
      "text/plain": [
       "43"
      ]
     },
     "execution_count": 52,
     "metadata": {},
     "output_type": "execute_result"
    }
   ],
   "source": [
    "new_list.pop()"
   ]
  },
  {
   "cell_type": "code",
   "execution_count": 53,
   "id": "d8650417-ecb7-444f-be23-0c6ac89abea8",
   "metadata": {},
   "outputs": [],
   "source": [
    "new_list.sort() # sort in asc order"
   ]
  },
  {
   "cell_type": "code",
   "execution_count": 54,
   "id": "0eadf27f-f728-40a8-b638-b1f146107cbd",
   "metadata": {},
   "outputs": [
    {
     "data": {
      "text/plain": [
       "['Alpha', 'Bingo', 'Charlie']"
      ]
     },
     "execution_count": 54,
     "metadata": {},
     "output_type": "execute_result"
    }
   ],
   "source": [
    "new_list"
   ]
  },
  {
   "cell_type": "code",
   "execution_count": 55,
   "id": "2b5f7f79-653d-496f-9abb-11569c0549f9",
   "metadata": {},
   "outputs": [],
   "source": [
    "new_list.sort(reverse=True) # dsc order"
   ]
  },
  {
   "cell_type": "code",
   "execution_count": 56,
   "id": "a099d12c-2f51-4195-9d86-d31e062134c9",
   "metadata": {},
   "outputs": [
    {
     "data": {
      "text/plain": [
       "['Charlie', 'Bingo', 'Alpha']"
      ]
     },
     "execution_count": 56,
     "metadata": {},
     "output_type": "execute_result"
    }
   ],
   "source": [
    "new_list"
   ]
  },
  {
   "cell_type": "code",
   "execution_count": 57,
   "id": "b1abe5ee-76c6-478f-aca7-b4bb17afd938",
   "metadata": {},
   "outputs": [
    {
     "data": {
      "text/plain": [
       "['Alpha', 'Bingo', 'Charlie']"
      ]
     },
     "execution_count": 57,
     "metadata": {},
     "output_type": "execute_result"
    }
   ],
   "source": [
    "sorted(new_list) # it will sort but store in orignial version of list ,but if we use sort it will change in the original list"
   ]
  },
  {
   "cell_type": "code",
   "execution_count": 58,
   "id": "427d8f5e-742f-4a38-9d03-7102abb2dd88",
   "metadata": {},
   "outputs": [
    {
     "data": {
      "text/plain": [
       "['Charlie', 'Bingo', 'Alpha']"
      ]
     },
     "execution_count": 58,
     "metadata": {},
     "output_type": "execute_result"
    }
   ],
   "source": [
    "new_list"
   ]
  },
  {
   "cell_type": "code",
   "execution_count": 59,
   "id": "08324239-1649-443e-85d5-dce2506b33ea",
   "metadata": {},
   "outputs": [
    {
     "data": {
      "text/plain": [
       "['Charlie', 'Bingo', 'Alpha']"
      ]
     },
     "execution_count": 59,
     "metadata": {},
     "output_type": "execute_result"
    }
   ],
   "source": [
    "sorted(new_list,reverse=True)# DSc order"
   ]
  },
  {
   "cell_type": "code",
   "execution_count": 60,
   "id": "93f5a051-1cdb-4f8f-b346-ae58b0ef4b21",
   "metadata": {},
   "outputs": [],
   "source": [
    "new_list.reverse()# reversed the list and make changes to original"
   ]
  },
  {
   "cell_type": "code",
   "execution_count": 61,
   "id": "fcf9a85d-7267-47d8-b59f-751bc88a52b1",
   "metadata": {},
   "outputs": [
    {
     "data": {
      "text/plain": [
       "['Alpha', 'Bingo', 'Charlie']"
      ]
     },
     "execution_count": 61,
     "metadata": {},
     "output_type": "execute_result"
    }
   ],
   "source": [
    "new_list"
   ]
  },
  {
   "cell_type": "code",
   "execution_count": 62,
   "id": "bcfe35dc-59bb-4503-9848-de6c89a98f13",
   "metadata": {},
   "outputs": [
    {
     "data": {
      "text/plain": [
       "['Charlie', 'Bingo', 'Alpha']"
      ]
     },
     "execution_count": 62,
     "metadata": {},
     "output_type": "execute_result"
    }
   ],
   "source": [
    "new_list[::-1] # reverse the list but doesn't make any changes to original"
   ]
  },
  {
   "cell_type": "code",
   "execution_count": 63,
   "id": "c2941f8f-8d67-4132-8447-1f9d8ed4ea93",
   "metadata": {},
   "outputs": [
    {
     "data": {
      "text/plain": [
       "False"
      ]
     },
     "execution_count": 63,
     "metadata": {},
     "output_type": "execute_result"
    }
   ],
   "source": [
    "0 in new_list"
   ]
  },
  {
   "cell_type": "code",
   "execution_count": 64,
   "id": "880885ab-9d9d-4032-a530-91ee6d4b714d",
   "metadata": {},
   "outputs": [
    {
     "data": {
      "text/plain": [
       "['Alpha', 'Bingo', 'Charlie']"
      ]
     },
     "execution_count": 64,
     "metadata": {},
     "output_type": "execute_result"
    }
   ],
   "source": [
    "new_list# before change"
   ]
  },
  {
   "cell_type": "code",
   "execution_count": 65,
   "id": "4b1e34dc-1a3c-4150-92f2-9bebd720ae05",
   "metadata": {},
   "outputs": [],
   "source": [
    "new_list[1]=\"Delta\""
   ]
  },
  {
   "cell_type": "code",
   "execution_count": 66,
   "id": "c22cdcc3-8fc7-4ca1-b248-0440dd15f129",
   "metadata": {},
   "outputs": [
    {
     "data": {
      "text/plain": [
       "['Alpha', 'Delta', 'Charlie']"
      ]
     },
     "execution_count": 66,
     "metadata": {},
     "output_type": "execute_result"
    }
   ],
   "source": [
    "new_list # after change"
   ]
  },
  {
   "cell_type": "markdown",
   "id": "722b9649-893f-4998-b9cd-5db9a5f9a251",
   "metadata": {},
   "source": [
    "If we can change a value of any collection of a particular index we call the collection as mutable .Here list is mutable we can change here the value at index 1"
   ]
  },
  {
   "cell_type": "code",
   "execution_count": null,
   "id": "78f8b9a8-42e7-4aa2-b6ae-c9e797165199",
   "metadata": {},
   "outputs": [],
   "source": []
  },
  {
   "cell_type": "code",
   "execution_count": null,
   "id": "9c6bf441-14cc-4c67-a4d6-076d21216964",
   "metadata": {},
   "outputs": [],
   "source": []
  },
  {
   "cell_type": "code",
   "execution_count": null,
   "id": "b9af8f55-491f-46b3-a1d6-4cb84f963a77",
   "metadata": {},
   "outputs": [],
   "source": []
  }
 ],
 "metadata": {
  "kernelspec": {
   "display_name": "Python 3 (ipykernel)",
   "language": "python",
   "name": "python3"
  },
  "language_info": {
   "codemirror_mode": {
    "name": "ipython",
    "version": 3
   },
   "file_extension": ".py",
   "mimetype": "text/x-python",
   "name": "python",
   "nbconvert_exporter": "python",
   "pygments_lexer": "ipython3",
   "version": "3.12.7"
  }
 },
 "nbformat": 4,
 "nbformat_minor": 5
}
