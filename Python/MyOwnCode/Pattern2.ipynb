{
 "cells": [
  {
   "cell_type": "raw",
   "id": "36c482fa-a319-415f-a042-159d23b5d780",
   "metadata": {},
   "source": [
    "    *\n",
    "   ***\n",
    "  *****\n",
    " *******\n",
    "*********"
   ]
  },
  {
   "cell_type": "code",
   "execution_count": 19,
   "id": "aca9c507-8276-4624-86bc-5f51acdb706b",
   "metadata": {},
   "outputs": [
    {
     "name": "stdout",
     "output_type": "stream",
     "text": [
      "    *\n",
      "   ***\n",
      "  *****\n",
      " *******\n",
      "*********\n",
      " *******\n",
      "  *****\n",
      "   ***\n",
      "    *\n"
     ]
    }
   ],
   "source": [
    "def pattern1(n):\n",
    "    for row in range(1,n+1):\n",
    "        print(\" \"*(n-row),end=\"\")\n",
    "        print(\"*\"*(2*row-1))\n",
    "    for row1 in range(n-1,0,-1):\n",
    "        print(\" \"*(n-row1),end=\"\")\n",
    "        print(\"*\"*(2*row1-1))\n",
    "\n",
    "pattern1(5)\n",
    "        \n",
    "            "
   ]
  },
  {
   "cell_type": "code",
   "execution_count": null,
   "id": "4d85c41d-6de6-44ef-9526-654c8f435181",
   "metadata": {},
   "outputs": [],
   "source": []
  },
  {
   "cell_type": "code",
   "execution_count": null,
   "id": "c887fb12-8afe-45c7-9e22-ded82a14b81d",
   "metadata": {},
   "outputs": [],
   "source": [
    "\n",
    "        "
   ]
  },
  {
   "cell_type": "code",
   "execution_count": null,
   "id": "cc74a765-64b8-4b59-bafb-b9b853b9cdb1",
   "metadata": {},
   "outputs": [],
   "source": []
  },
  {
   "cell_type": "code",
   "execution_count": null,
   "id": "314f2319-4d18-4a25-89b8-65a519629029",
   "metadata": {},
   "outputs": [],
   "source": []
  }
 ],
 "metadata": {
  "kernelspec": {
   "display_name": "Python 3 (ipykernel)",
   "language": "python",
   "name": "python3"
  },
  "language_info": {
   "codemirror_mode": {
    "name": "ipython",
    "version": 3
   },
   "file_extension": ".py",
   "mimetype": "text/x-python",
   "name": "python",
   "nbconvert_exporter": "python",
   "pygments_lexer": "ipython3",
   "version": "3.12.7"
  }
 },
 "nbformat": 4,
 "nbformat_minor": 5
}
