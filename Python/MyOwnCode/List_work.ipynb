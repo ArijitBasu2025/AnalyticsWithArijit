{
 "cells": [
  {
   "cell_type": "raw",
   "id": "cd9d6b84-a294-4093-94c5-0c5db486661d",
   "metadata": {},
   "source": [
    "Q1. Write a program that accepts 5 integers from the user. Store those integers as part of list. Output the following without using any of the built-in fuction available : <br>\n",
    "    (a) square of all the integers in the list <br>\n",
    "    (b) sum of all the integers in the list    <br>\n",
    "    (c) product of all the integers in the list <br>"
   ]
  },
  {
   "cell_type": "code",
   "execution_count": 25,
   "id": "6884a95e-69d0-4979-9d27-983ed8246de2",
   "metadata": {},
   "outputs": [
    {
     "name": "stdin",
     "output_type": "stream",
     "text": [
      "Enter The Number 4\n",
      "Enter The Number 6\n",
      "Enter The Number 3\n",
      "Enter The Number 2\n",
      "Enter The Number 8\n"
     ]
    },
    {
     "name": "stdout",
     "output_type": "stream",
     "text": [
      "[4, 6, 3, 2, 8]\n",
      "Sum of all elemnets 23\n",
      "Square of all elements [16, 36, 9, 4, 64]\n",
      "Multiplication of all elements 1152\n"
     ]
    }
   ],
   "source": [
    "num_count=5\n",
    "list_value=[]\n",
    "for item in range(num_count):\n",
    "    list_value.append(int(input(\"Enter The Number\")))\n",
    "\n",
    "print(list_value)\n",
    "\n",
    "sum_val,square_val,mul_val=0,[],1\n",
    "\n",
    "for item in list_value:\n",
    "    sum_val=sum_val+item\n",
    "    mul_val=mul_val*item\n",
    "    square_val.append(item**2)\n",
    "\n",
    "print(\"Sum of all elemnets\",sum_val)\n",
    "print(\"Square of all elements\",square_val)\n",
    "print(\"Multiplication of all elements\",mul_val)"
   ]
  },
  {
   "cell_type": "raw",
   "id": "4dad890b-c64b-439c-b3d4-8f6bacd29d9e",
   "metadata": {},
   "source": [
    "Q2. Write a program that will reverse the elements of the list without using any built-in function."
   ]
  },
  {
   "cell_type": "code",
   "execution_count": 20,
   "id": "8396343c-5880-4d96-80ca-4122dba13d12",
   "metadata": {},
   "outputs": [
    {
     "name": "stdout",
     "output_type": "stream",
     "text": [
      "[45, 8, 7, 6, 21, 34, 12]\n",
      "[45, 8, 7, 6, 21, 34, 12]\n"
     ]
    }
   ],
   "source": [
    "list_mine=[12,34,21,6,7,8,45]\n",
    "#method 1:\n",
    "print(list_mine[::-1])\n",
    "\n",
    "#method 2:\n",
    "new_list=[]\n",
    "for item in range(len(list_mine)-1,-1,-1):\n",
    "    new_list.append(list_mine[item])\n",
    "\n",
    "print(new_list)"
   ]
  },
  {
   "cell_type": "raw",
   "id": "3c10827f-9140-49f9-b2da-63ee754b7714",
   "metadata": {},
   "source": [
    "Q3. Start with the list [ 8, 9 , 10]. Do the following :<br>\n",
    "    (a) Set the second entry to 17 <br>\n",
    "    (b) Add 4,5, and 6 to the end of list<br>\n",
    "    (c) Remove the first entry from the list<br>\n",
    "    (d) Double the list<br>\n",
    "    (e) Insert 25 at the index 3 <br><br>\n",
    "    \n",
    "    The final list should look like [17, 10, 4, 25, 5, 6, 17, 10, 4, 5, 6 ]"
   ]
  },
  {
   "cell_type": "code",
   "execution_count": 18,
   "id": "d15d505e-e528-457c-acf2-2f5952db1ea5",
   "metadata": {},
   "outputs": [
    {
     "name": "stdout",
     "output_type": "stream",
     "text": [
      "[8, 17, 10]\n",
      "[8, 17, 10, 4, 5, 6]\n",
      "[17, 10, 4, 5, 6]\n",
      "[17, 10, 4, 5, 6, 17, 10, 4, 5, 6]\n",
      "[17, 10, 4, 25, 5, 6, 17, 10, 4, 5, 6]\n"
     ]
    }
   ],
   "source": [
    "my_list=[8,9,10] #List Initialize\n",
    "\n",
    "#a\n",
    "my_list[1]=17\n",
    "print(my_list) #[8,17,10]\n",
    "\n",
    "#b\n",
    "my_list.append(4)\n",
    "my_list.append(5)\n",
    "my_list.append(6)\n",
    "print(my_list) #[8, 17, 10, 4, 5, 6]\n",
    "\n",
    "#c\n",
    "my_list.remove(my_list[0])\n",
    "print(my_list) #[17, 10, 4, 5, 6]\n",
    "\n",
    "#d\n",
    "my_list=my_list*2\n",
    "print(my_list) #[17, 10, 4, 5, 6, 17, 10, 4, 5, 6]\n",
    "\n",
    "#e\n",
    "my_list.insert(3,25)\n",
    "print(my_list) #[17, 10, 4, 25, 5, 6, 17, 10, 4, 5, 6]"
   ]
  },
  {
   "cell_type": "raw",
   "id": "6e3cda21-8879-477d-8f4d-f685492d4a9c",
   "metadata": {},
   "source": [
    "Q2. Ask a use to enter a sentence\n",
    "(a) Print out the third word of sentence\n",
    "(b) Print out every second word of sentence"
   ]
  },
  {
   "cell_type": "code",
   "execution_count": 41,
   "id": "0708ae7d-d22e-41bf-ba7a-0df569b4c9f5",
   "metadata": {},
   "outputs": [
    {
     "name": "stdin",
     "output_type": "stream",
     "text": [
      "Enter The Senetence hi i\n"
     ]
    },
    {
     "name": "stdout",
     "output_type": "stream",
     "text": [
      "No third Word Present\n",
      "['hi']\n"
     ]
    }
   ],
   "source": [
    "sentence=input(\"Enter The Senetence\")\n",
    "\n",
    "list_words=sentence.split(\" \")\n",
    "\n",
    "if len(list_words)>=3:\n",
    "    print(list_words[2])\n",
    "else:\n",
    "    print(\"No third Word Present\")\n",
    "\n",
    "\n",
    "print(list_words[::2])"
   ]
  },
  {
   "cell_type": "raw",
   "id": "11cc1a14-0931-4c1d-b578-2ddb21fe0dea",
   "metadata": {},
   "source": [
    "Q3. Create the following lists using a for loop.<br>\n",
    "    (a) A list consisting of the integers 0 through 49<br>\n",
    "    (b) A list containing the squares of integers 1 through 50 <br>\n",
    "    (c) The list ['aa', 'bb', 'cc'.....] that ends with 26 th letter 'z'.\n",
    "    "
   ]
  },
  {
   "cell_type": "code",
   "execution_count": 45,
   "id": "e3364735-153d-4032-acc6-1b52469cb6d6",
   "metadata": {},
   "outputs": [
    {
     "name": "stdout",
     "output_type": "stream",
     "text": [
      "[0, 1, 2, 3, 4, 5, 6, 7, 8, 9, 10, 11, 12, 13, 14, 15, 16, 17, 18, 19, 20, 21, 22, 23, 24, 25, 26, 27, 28, 29, 30, 31, 32, 33, 34, 35, 36, 37, 38, 39, 40, 41, 42, 43, 44, 45, 46, 47, 48, 49]\n",
      "\n",
      "[1, 4, 9, 16, 25, 36, 49, 64, 81, 100, 121, 144, 169, 196, 225, 256, 289, 324, 361, 400, 441, 484, 529, 576, 625, 676, 729, 784, 841, 900, 961, 1024, 1089, 1156, 1225, 1296, 1369, 1444, 1521, 1600, 1681, 1764, 1849, 1936, 2025, 2116, 2209, 2304, 2401, 2500]\n",
      "\n",
      "['aa', 'bb', 'cc', 'dd', 'ee', 'ff', 'gg', 'hh', 'ii', 'jj', 'kk', 'll', 'mm', 'nn', 'oo', 'pp', 'qq', 'rr', 'ss', 'tt', 'uu', 'vv', 'ww', 'xx', 'yy', 'zz']\n",
      "\n"
     ]
    }
   ],
   "source": [
    "int_list=[x for x in range(50)]\n",
    "print(int_list)\n",
    "print()\n",
    "\n",
    "square_list=[pow(x,2) for x in range(1,51)]\n",
    "print(square_list)\n",
    "print()\n",
    "\n",
    "alpha_list=[(chr(x+96))*2 for x in range(1,27)]\n",
    "print(alpha_list)\n",
    "print()"
   ]
  },
  {
   "cell_type": "raw",
   "id": "108e0744-4437-4090-b046-db49f3cbf3df",
   "metadata": {},
   "source": [
    "Q4. Write a program that counts the number of occurances of word in a sentence entered by user without using built in function."
   ]
  },
  {
   "cell_type": "code",
   "execution_count": 47,
   "id": "641fb0da-12d6-44b3-93df-b3660279bcbb",
   "metadata": {},
   "outputs": [
    {
     "name": "stdin",
     "output_type": "stream",
     "text": [
      "Enter The sentece to chck word count hi i am arijit and i am larning python list right now\n"
     ]
    },
    {
     "name": "stdout",
     "output_type": "stream",
     "text": [
      "['hi', 'i', 'am', 'arijit', 'and', 'i', 'am', 'larning', 'python', 'list', 'right', 'now']\n",
      "arijit -> 1\n",
      "larning -> 1\n",
      "i -> 2\n",
      "now -> 1\n",
      "and -> 1\n",
      "list -> 1\n",
      "hi -> 1\n",
      "right -> 1\n",
      "am -> 2\n",
      "python -> 1\n"
     ]
    }
   ],
   "source": [
    "sentence=input(\"Enter The sentece to chck word count\")\n",
    "list_words=sentence.split()\n",
    "print(list_words)\n",
    "\n",
    "for item in set(list_words):\n",
    "    print(item,\"->\",list_words.count(item))"
   ]
  },
  {
   "cell_type": "raw",
   "id": "2e00e09a-c87a-482b-9372-b935507f383d",
   "metadata": {},
   "source": [
    "Q5. Ask a user to enter a list of strings. Create a new list that consists of those strings with their first characters removed."
   ]
  },
  {
   "cell_type": "code",
   "execution_count": 49,
   "id": "b656655d-de3b-4dd7-8e18-79f50143456c",
   "metadata": {},
   "outputs": [
    {
     "name": "stdin",
     "output_type": "stream",
     "text": [
      "Enter the string Arijit\n",
      "Enter the string Basu\n"
     ]
    },
    {
     "name": "stdout",
     "output_type": "stream",
     "text": [
      "Original: Arijit ----> New: rijit\n",
      "Original: Basu ----> New: asu\n"
     ]
    }
   ],
   "source": [
    "sentence_count=2\n",
    "\n",
    "original,new=[],[]\n",
    "\n",
    "for item in range(sentence_count):\n",
    "    original.append(input(\"Enter the string\"))\n",
    "\n",
    "for item1 in range(sentence_count):\n",
    "    new.append(original[item1][1:])\n",
    "\n",
    "for item2 in range(sentence_count):\n",
    "    print(\"Original:\",original[item2],\"---->\",\"New:\",new[item2])\n",
    "\n",
    "\n"
   ]
  },
  {
   "cell_type": "raw",
   "id": "422b95a8-27c3-43af-a6c4-4930dec3f951",
   "metadata": {},
   "source": [
    "Q1. Write a program that accepts 5 lists from the user, each one of which contains three values in it assignment marks, midsem marks and compre marks. <br>\n",
    "    (a) Compute the total marks obtained by each student <br>\n",
    "    (b) Print out the average of the class. "
   ]
  },
  {
   "cell_type": "code",
   "execution_count": 63,
   "id": "e146ce70-649a-494f-a768-a6ada67fbb1d",
   "metadata": {},
   "outputs": [
    {
     "name": "stdin",
     "output_type": "stream",
     "text": [
      "Enter 3 marks separated by space 3 4 5\n",
      "Enter 3 marks separated by space 5 6 7\n",
      "Enter 3 marks separated by space 8 9 10\n",
      "Enter 3 marks separated by space 1 2 3\n",
      "Enter 3 marks separated by space 2 3 4\n"
     ]
    },
    {
     "name": "stdout",
     "output_type": "stream",
     "text": [
      "User 1 Numbers [3, 4, 5] and total 12\n",
      "User 2 Numbers [5, 6, 7] and total 18\n",
      "User 3 Numbers [8, 9, 10] and total 27\n",
      "User 4 Numbers [1, 2, 3] and total 6\n",
      "User 5 Numbers [2, 3, 4] and total 9\n",
      "Total number of class 72\n",
      "Average Number of class 14.4\n"
     ]
    }
   ],
   "source": [
    "numbers=[]\n",
    "count=5\n",
    "total=[]\n",
    "for item in range(1,count+1):\n",
    "    val=input(\"Enter 3 marks separated by space\")\n",
    "    numbers.append([int(x) for x in val.split(\" \")])\n",
    "\n",
    "for c in range(1,count+1):\n",
    "    print(\"User\",c,\"Numbers\",numbers[c-1],\"and total\",sum(numbers[c-1]))\n",
    "    total.append(sum(numbers[c-1]))\n",
    "\n",
    "print(\"Total number of class\",sum(total))\n",
    "print(\"Average Number of class\",sum(total)/count)\n"
   ]
  },
  {
   "cell_type": "raw",
   "id": "d7561bbc-6ee2-49cc-a96a-bb1054c73bdd",
   "metadata": {},
   "source": [
    "1)Create a list named my_list that contains the following elements: 10, 20, 30, 40, 50.\n",
    "2)Write a Python code to access the first and last elements of my_list.\n",
    "3)Change the second element of my_list to 25.\n",
    "4)Append the value 60 to my_list.\n",
    "5)Insert the value 15 at the second position in my_list.\n",
    "6)Remove the first occurrence of 30 from my_list using the remove() method.\n",
    "7)Use the pop() method to remove and return the last element from my_list.\n",
    "8)Sort my_list in ascending order.\n",
    "9)Reverse the order of elements in my_list.\n",
    "10)Count how many times the value 20 appears in my_list.\n",
    "11)Slice my_list to create a new list containing the first three elements.\n",
    "12)Find the index of the value 40 in my_list.\n",
    "13)Clear all elements from my_list using the clear() method.\n",
    "14)Create a nested list called nested_list with two sublists: [1, 2, 3] and [4, 5, 6].\n",
    "15)Access the element 5 from nested_list."
   ]
  },
  {
   "cell_type": "code",
   "execution_count": 68,
   "id": "911e519a-0af2-472c-865f-e83eafd2d738",
   "metadata": {},
   "outputs": [
    {
     "name": "stdout",
     "output_type": "stream",
     "text": [
      "First Element 10 last Element 50\n"
     ]
    }
   ],
   "source": [
    "l=[10,20,30,40,50]\n",
    "print(\"First Element\",l[0],\"last Element\",l[-1])"
   ]
  },
  {
   "cell_type": "code",
   "execution_count": 69,
   "id": "53e163ef-3876-4c90-9858-03cfbce9a646",
   "metadata": {},
   "outputs": [
    {
     "name": "stdout",
     "output_type": "stream",
     "text": [
      "[10, 25, 30, 40, 50]\n"
     ]
    }
   ],
   "source": [
    "l[1]=25\n",
    "print(l)"
   ]
  },
  {
   "cell_type": "code",
   "execution_count": 70,
   "id": "2c06cbd7-c65e-4c75-8ee5-c0826fd52a7e",
   "metadata": {},
   "outputs": [
    {
     "name": "stdout",
     "output_type": "stream",
     "text": [
      "[10, 25, 30, 40, 50, 60]\n"
     ]
    }
   ],
   "source": [
    "l.append(60)\n",
    "print(l)"
   ]
  },
  {
   "cell_type": "code",
   "execution_count": 71,
   "id": "89f6f9bf-da98-4e84-9064-870fb877b10d",
   "metadata": {},
   "outputs": [
    {
     "name": "stdout",
     "output_type": "stream",
     "text": [
      "[10, 15, 25, 30, 40, 50, 60]\n"
     ]
    }
   ],
   "source": [
    "l.insert(1,15)\n",
    "print(l)"
   ]
  },
  {
   "cell_type": "code",
   "execution_count": 72,
   "id": "ba4472f6-928c-4a65-84d9-98774d842aea",
   "metadata": {},
   "outputs": [
    {
     "name": "stdout",
     "output_type": "stream",
     "text": [
      "[10, 15, 25, 40, 50, 60]\n"
     ]
    }
   ],
   "source": [
    "l.remove(30)\n",
    "print(l)"
   ]
  },
  {
   "cell_type": "code",
   "execution_count": 73,
   "id": "93a356fb-c49c-458d-8cf2-67a920b0f2da",
   "metadata": {},
   "outputs": [
    {
     "data": {
      "text/plain": [
       "60"
      ]
     },
     "execution_count": 73,
     "metadata": {},
     "output_type": "execute_result"
    }
   ],
   "source": [
    "l.pop(-1)"
   ]
  },
  {
   "cell_type": "code",
   "execution_count": 74,
   "id": "5a71468e-8dea-47da-bd0b-a79db3dc5d96",
   "metadata": {},
   "outputs": [
    {
     "name": "stdout",
     "output_type": "stream",
     "text": [
      "[10, 15, 25, 40, 50]\n"
     ]
    }
   ],
   "source": [
    "l.sort()\n",
    "print(l)"
   ]
  },
  {
   "cell_type": "code",
   "execution_count": 75,
   "id": "56c8afb5-c97e-4192-a01c-e2c86e16fa16",
   "metadata": {},
   "outputs": [
    {
     "data": {
      "text/plain": [
       "0"
      ]
     },
     "execution_count": 75,
     "metadata": {},
     "output_type": "execute_result"
    }
   ],
   "source": [
    "l.count(20)"
   ]
  },
  {
   "cell_type": "code",
   "execution_count": 77,
   "id": "e4f4a3b3-6f12-42be-a7c2-195deed5a4da",
   "metadata": {},
   "outputs": [
    {
     "name": "stdout",
     "output_type": "stream",
     "text": [
      "[10, 15, 25]\n"
     ]
    }
   ],
   "source": [
    "new=l[:3]\n",
    "print(new)"
   ]
  },
  {
   "cell_type": "code",
   "execution_count": 78,
   "id": "97d1bcc9-f800-4192-8ff4-ab6567f863a5",
   "metadata": {},
   "outputs": [
    {
     "data": {
      "text/plain": [
       "3"
      ]
     },
     "execution_count": 78,
     "metadata": {},
     "output_type": "execute_result"
    }
   ],
   "source": [
    "l.index(40)"
   ]
  },
  {
   "cell_type": "code",
   "execution_count": 80,
   "id": "79e88459-93d0-463d-adf3-4d5ca0a08201",
   "metadata": {},
   "outputs": [
    {
     "data": {
      "text/plain": [
       "[]"
      ]
     },
     "execution_count": 80,
     "metadata": {},
     "output_type": "execute_result"
    }
   ],
   "source": [
    "l.clear()\n",
    "l"
   ]
  },
  {
   "cell_type": "code",
   "execution_count": 82,
   "id": "91a62ad5-9be6-475c-9b64-79b928923be0",
   "metadata": {},
   "outputs": [
    {
     "name": "stdout",
     "output_type": "stream",
     "text": [
      "[[1, 2, 3], [4, 5, 6]]\n"
     ]
    }
   ],
   "source": [
    "new=[[1,2,3],[4,5,6]]\n",
    "print(new)"
   ]
  },
  {
   "cell_type": "code",
   "execution_count": 83,
   "id": "96f840a6-e733-4116-934c-0c3e5d1d8927",
   "metadata": {},
   "outputs": [
    {
     "data": {
      "text/plain": [
       "5"
      ]
     },
     "execution_count": 83,
     "metadata": {},
     "output_type": "execute_result"
    }
   ],
   "source": [
    "new[-1][1]"
   ]
  },
  {
   "cell_type": "code",
   "execution_count": null,
   "id": "416808c7-b65f-4a4b-a501-bbe67a1f0623",
   "metadata": {},
   "outputs": [],
   "source": []
  }
 ],
 "metadata": {
  "kernelspec": {
   "display_name": "Python 3 (ipykernel)",
   "language": "python",
   "name": "python3"
  },
  "language_info": {
   "codemirror_mode": {
    "name": "ipython",
    "version": 3
   },
   "file_extension": ".py",
   "mimetype": "text/x-python",
   "name": "python",
   "nbconvert_exporter": "python",
   "pygments_lexer": "ipython3",
   "version": "3.12.7"
  }
 },
 "nbformat": 4,
 "nbformat_minor": 5
}
