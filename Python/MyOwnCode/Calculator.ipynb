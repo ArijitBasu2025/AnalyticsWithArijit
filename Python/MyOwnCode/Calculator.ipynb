{
 "cells": [
  {
   "cell_type": "code",
   "execution_count": 17,
   "id": "afcfbba4-da4a-478b-9cfc-c9dc88d0991b",
   "metadata": {},
   "outputs": [
    {
     "name": "stdout",
     "output_type": "stream",
     "text": [
      "6 +  4 = 10\n",
      "6 -  4 = 2\n",
      "6 *  4 = 24\n",
      "6 /  4 = 1.5\n",
      "6 %  4 = 2\n",
      "6 ^  4 = 1296\n",
      "6 // 4 = 1\n",
      "\n",
      "\n",
      "6 >  4 : True\n",
      "6 >= 4 : True\n",
      "6 <  4 : False\n",
      "6 <= 4 : False\n",
      "6 == 4 : False\n",
      "6 != 4 : True\n"
     ]
    }
   ],
   "source": [
    "num_1=6; # 1st_number\n",
    "\n",
    "num_2=4; #2nd_nuber\n",
    "\n",
    "'''\n",
    "ARITHMATIC OPERATOR\n",
    "'''\n",
    "print(\"{} +  {} = {}\".format(num_1,num_2,num_1+num_2)) #Addition\n",
    "\n",
    "print(\"{} -  {} = {}\".format(num_1,num_2,num_1-num_2)) #Subtract\n",
    "\n",
    "print(\"{} *  {} = {}\".format(num_1,num_2,num_1*num_2)) #Multiplication\n",
    "\n",
    "print(\"{} /  {} = {}\".format(num_1,num_2,num_1/num_2)) #Division\n",
    "\n",
    "print(\"{} %  {} = {}\".format(num_1,num_2,num_1%num_2)) #Modulus\n",
    "\n",
    "print(\"{} ^  {} = {}\".format(num_1,num_2,num_1**num_2)) #Power\n",
    "\n",
    "print(\"{} // {} = {}\".format(num_1,num_2,num_1//num_2)) #Floor Division or Quotient\n",
    "\n",
    "'''\n",
    "COMPARISON OPERATOR\n",
    "'''\n",
    "print(\"\\n\")\n",
    "\n",
    "print(\"{} >  {} : {}\".format(num_1,num_2,num_1>num_2)) #Greater than checker\n",
    "\n",
    "print(\"{} >= {} : {}\".format(num_1,num_2,num_1>=num_2)) #Greater than equal checker\n",
    "\n",
    "print(\"{} <  {} : {}\".format(num_1,num_2,num_1<num_2)) #less than checker\n",
    "\n",
    "print(\"{} <= {} : {}\".format(num_1,num_2,num_1<=num_2)) #less than equal checker\n",
    "\n",
    "print(\"{} == {} : {}\".format(num_1,num_2,num_1==num_2)) #Equality checker\n",
    "\n",
    "print(\"{} != {} : {}\".format(num_1,num_2,num_1!=num_2)) #Not equal checker\n",
    "\n",
    "\n"
   ]
  },
  {
   "cell_type": "code",
   "execution_count": 31,
   "id": "e3a50d0f-d1e7-4a24-82ba-a6a9786563d7",
   "metadata": {},
   "outputs": [],
   "source": [
    "name=\"Ari\"\n",
    "age=35"
   ]
  },
  {
   "cell_type": "code",
   "execution_count": 32,
   "id": "362b94db-569d-4b49-83a6-8f624f65aca4",
   "metadata": {},
   "outputs": [
    {
     "name": "stdout",
     "output_type": "stream",
     "text": [
      "Name: Ari Age: 35\n"
     ]
    }
   ],
   "source": [
    "print(\"Name:\",name,end=\" \")\n",
    "print(\"Age:\",age)"
   ]
  },
  {
   "cell_type": "code",
   "execution_count": 34,
   "id": "7b151352-6231-4d7b-90b3-a658ed1fa572",
   "metadata": {},
   "outputs": [
    {
     "name": "stdout",
     "output_type": "stream",
     "text": [
      "12.4\n"
     ]
    }
   ],
   "source": [
    "s=\"12.4\"\n",
    "print(float(s))"
   ]
  },
  {
   "cell_type": "code",
   "execution_count": 35,
   "id": "8893eaf3-e9b6-41b1-bc55-24e082204213",
   "metadata": {},
   "outputs": [
    {
     "data": {
      "text/plain": [
       "12"
      ]
     },
     "execution_count": 35,
     "metadata": {},
     "output_type": "execute_result"
    }
   ],
   "source": [
    "int(float(s))"
   ]
  },
  {
   "cell_type": "code",
   "execution_count": null,
   "id": "ac061741-7efb-47dd-a007-08f68776a9e2",
   "metadata": {},
   "outputs": [],
   "source": []
  }
 ],
 "metadata": {
  "kernelspec": {
   "display_name": "Python 3 (ipykernel)",
   "language": "python",
   "name": "python3"
  },
  "language_info": {
   "codemirror_mode": {
    "name": "ipython",
    "version": 3
   },
   "file_extension": ".py",
   "mimetype": "text/x-python",
   "name": "python",
   "nbconvert_exporter": "python",
   "pygments_lexer": "ipython3",
   "version": "3.12.7"
  }
 },
 "nbformat": 4,
 "nbformat_minor": 5
}
