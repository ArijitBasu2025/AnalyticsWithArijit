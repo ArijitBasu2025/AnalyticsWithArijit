{
 "cells": [
  {
   "cell_type": "markdown",
   "id": "23b8e318-0c1e-4d67-bb27-a4d619e9d1bb",
   "metadata": {},
   "source": [
    "PATTERN:1"
   ]
  },
  {
   "cell_type": "raw",
   "id": "ff1a7a51-8603-4563-b6fa-e0c85b0ba915",
   "metadata": {},
   "source": [
    "1\n",
    "12\n",
    "123\n",
    "1234\n",
    "12345"
   ]
  },
  {
   "cell_type": "code",
   "execution_count": 4,
   "id": "256522c7-5153-4bd1-b781-d433ea917422",
   "metadata": {},
   "outputs": [
    {
     "name": "stdout",
     "output_type": "stream",
     "text": [
      "1 \n",
      "\n",
      "1 2 \n",
      "\n",
      "1 2 3 \n",
      "\n",
      "1 2 3 4 \n",
      "\n",
      "1 2 3 4 5 \n",
      "\n"
     ]
    }
   ],
   "source": [
    "def pattern1(n):\n",
    "    for row in range(1,n+1):\n",
    "        for col in range(1,row+1):\n",
    "            print(col,end=\" \")\n",
    "        print(\"\\n\")\n",
    "\n",
    "pattern1(5)"
   ]
  },
  {
   "cell_type": "markdown",
   "id": "559cb22a-f536-4549-b794-c91cee398230",
   "metadata": {},
   "source": [
    "PATTERN:2"
   ]
  },
  {
   "cell_type": "raw",
   "id": "0430f38d-3606-4a97-9d1a-a79ea1207464",
   "metadata": {},
   "source": [
    "*****\n",
    "****\n",
    "***\n",
    "**\n",
    "*"
   ]
  },
  {
   "cell_type": "code",
   "execution_count": 7,
   "id": "b40ffba6-6498-4447-ae6b-3af35c58b856",
   "metadata": {},
   "outputs": [
    {
     "name": "stdout",
     "output_type": "stream",
     "text": [
      "* * * * * \n",
      "\n",
      "* * * * \n",
      "\n",
      "* * * \n",
      "\n",
      "* * \n",
      "\n",
      "* \n",
      "\n"
     ]
    }
   ],
   "source": [
    "def pattern2(n):\n",
    "    for row in range(0,n):\n",
    "        for col in range(n-row):\n",
    "            print(\"*\",end=\" \")\n",
    "        print(\"\\n\")\n",
    "\n",
    "pattern2(5)"
   ]
  },
  {
   "cell_type": "markdown",
   "id": "ec2f4c1e-78d5-4f29-b0df-2867551aa147",
   "metadata": {},
   "source": [
    "PATTERN:3"
   ]
  },
  {
   "cell_type": "raw",
   "id": "3f9d22d6-fb5a-48df-a3c3-9bd1013e116b",
   "metadata": {},
   "source": [
    "12345\n",
    "1234\n",
    "123\n",
    "12\n",
    "1"
   ]
  },
  {
   "cell_type": "code",
   "execution_count": 8,
   "id": "59bcebcc-6c91-4959-bdf2-fe90f01ac92b",
   "metadata": {},
   "outputs": [
    {
     "name": "stdout",
     "output_type": "stream",
     "text": [
      "1 2 3 4 5 \n",
      "\n",
      "1 2 3 4 \n",
      "\n",
      "1 2 3 \n",
      "\n",
      "1 2 \n",
      "\n",
      "1 \n",
      "\n"
     ]
    }
   ],
   "source": [
    "def pattern3(n):\n",
    "    for row in range(0,n):\n",
    "        for col in range(n-row):\n",
    "            print(col+1,end=\" \")\n",
    "        print(\"\\n\")\n",
    "\n",
    "pattern3(5)"
   ]
  },
  {
   "cell_type": "markdown",
   "id": "ec6a521b-0feb-42db-99a8-f677f0a076ba",
   "metadata": {},
   "source": [
    "PATTERN:4"
   ]
  },
  {
   "cell_type": "raw",
   "id": "2e3a3814-1cda-4e21-8e50-b6baf5444b3b",
   "metadata": {},
   "source": [
    "    *\n",
    "   **\n",
    "  ***\n",
    " ****\n",
    "*****"
   ]
  },
  {
   "cell_type": "code",
   "execution_count": 23,
   "id": "bf6dbcb6-cf60-4cc3-b11e-24423d192124",
   "metadata": {},
   "outputs": [
    {
     "name": "stdout",
     "output_type": "stream",
     "text": [
      "    *\n",
      "   **\n",
      "  ***\n",
      " ****\n",
      "*****\n"
     ]
    }
   ],
   "source": [
    "def pattern4(n):\n",
    "    for row in range(1,n+1):\n",
    "        space=n-row\n",
    "        for spa in range(space,0,-1):\n",
    "            print(\" \",end=\"\")\n",
    "        print(\"*\"*(n-space))\n",
    "\n",
    "pattern4(5)"
   ]
  },
  {
   "cell_type": "markdown",
   "id": "5a460ae0-f528-48ec-8e10-84c4f58394af",
   "metadata": {},
   "source": [
    "PATTERN:5"
   ]
  },
  {
   "cell_type": "raw",
   "id": "dbb047be-8b01-4fc4-9f77-7db37d13946a",
   "metadata": {},
   "source": [
    "A\n",
    "AB\n",
    "ABC\n",
    "ABCD\n",
    "ABCDE"
   ]
  },
  {
   "cell_type": "code",
   "execution_count": 35,
   "id": "75ecedd7-2651-4735-bf52-fe1da1a6f0cb",
   "metadata": {},
   "outputs": [
    {
     "name": "stdout",
     "output_type": "stream",
     "text": [
      "A \n",
      "\n",
      "A B \n",
      "\n",
      "A B C \n",
      "\n",
      "A B C D \n",
      "\n",
      "A B C D E \n",
      "\n"
     ]
    }
   ],
   "source": [
    "def pattern5(n):\n",
    "    for row in range(n):\n",
    "        for col in range(row+1):\n",
    "            print(chr(65+col),end=\" \")\n",
    "        print(\"\\n\")\n",
    "\n",
    "pattern5(5)\n",
    "            "
   ]
  },
  {
   "cell_type": "markdown",
   "id": "85bd272e-708e-4c39-8651-fed2785ee5a2",
   "metadata": {},
   "source": [
    "Pattern:6"
   ]
  },
  {
   "cell_type": "raw",
   "id": "a69a69bf-7861-459d-bb23-0360cb2830b1",
   "metadata": {},
   "source": [
    "*****\n",
    "*   *\n",
    "*   *\n",
    "*   *\n",
    "*****"
   ]
  },
  {
   "cell_type": "code",
   "execution_count": 49,
   "id": "ed9f2ba3-e854-49dd-9365-8587bfad63a9",
   "metadata": {},
   "outputs": [
    {
     "name": "stdout",
     "output_type": "stream",
     "text": [
      "* * * * * \n",
      "\n",
      "*       * \n",
      "\n",
      "*       * \n",
      "\n",
      "*       * \n",
      "\n",
      "* * * * * \n",
      "\n"
     ]
    }
   ],
   "source": [
    "def pattern6(n):\n",
    "    for row in range(1,n+1):\n",
    "        for col in range(1,n+1):\n",
    "            if row==1 or row==n:\n",
    "                print(\"*\",end=\" \")\n",
    "            else:\n",
    "                if col==1 or col==n:\n",
    "                    print(\"*\",end=\" \")\n",
    "                else:\n",
    "                    print(\" \",end=\" \")\n",
    "        print(\"\\n\")\n",
    "\n",
    "pattern6(5)         "
   ]
  },
  {
   "cell_type": "markdown",
   "id": "3a60da39-6987-4ac0-b08e-a60142d80389",
   "metadata": {},
   "source": [
    "Pattern 7:"
   ]
  },
  {
   "cell_type": "raw",
   "id": "165cb432-af4b-4c27-a82c-ec544aa90158",
   "metadata": {},
   "source": [
    "*     *\n",
    " *   *\n",
    "  * *\n",
    "   *\n",
    "  * *\n",
    " *   *\n",
    "*     *"
   ]
  },
  {
   "cell_type": "code",
   "execution_count": 63,
   "id": "fd9ab9b5-8701-4479-834a-6258d8f93da8",
   "metadata": {},
   "outputs": [
    {
     "name": "stdout",
     "output_type": "stream",
     "text": [
      "*           * \n",
      "\n",
      "  *       *   \n",
      "\n",
      "    *   *     \n",
      "\n",
      "      *       \n",
      "\n",
      "    *   *     \n",
      "\n",
      "  *       *   \n",
      "\n",
      "*           * \n",
      "\n"
     ]
    }
   ],
   "source": [
    "def pattern7(n):\n",
    "    for row in range(1,2*n):\n",
    "        for col in range(1,2*n):\n",
    "            if row==col or col==(2*n-row):\n",
    "                print(\"*\",end=\" \")\n",
    "            else:\n",
    "                print(\" \",end=\" \")\n",
    "        print(\"\\n\")\n",
    "            \n",
    "            \n",
    "        \n",
    "        \n",
    "pattern7(4)"
   ]
  },
  {
   "cell_type": "markdown",
   "id": "3d14bc8a-18f7-47cd-9d19-a8266767b69f",
   "metadata": {},
   "source": [
    "Pattern:9"
   ]
  },
  {
   "cell_type": "raw",
   "id": "3695fb78-c2c5-4217-b843-1f35599ea36e",
   "metadata": {},
   "source": [
    "    A\n",
    "   A B\n",
    "  A B C\n",
    " A B C D\n",
    "A B C D E\n",
    " A B C D\n",
    "  A B C\n",
    "   A B\n",
    "    A "
   ]
  },
  {
   "cell_type": "code",
   "execution_count": 99,
   "id": "2433e4c8-d5d8-47d1-9daf-2e484d4118c0",
   "metadata": {},
   "outputs": [],
   "source": [
    "def pattern9(n):\n",
    "    for row in range(1,n+1):\n",
    "        print(\" \"*(n-row),end=\" \")\n",
    "        for col in range(row):\n",
    "            print(chr(col+1+64),end=\" \")\n",
    "        print(\"\\n\")\n",
    "\n",
    "    for row1 in range(n-1,0,-1):\n",
    "        print(\" \"*(n-row1),end=\" \")\n",
    "        for col1 in range(row1):\n",
    "            print(chr(col1+65),end=\" \")\n",
    "        print(\"\\n\")\n",
    "    "
   ]
  },
  {
   "cell_type": "code",
   "execution_count": 100,
   "id": "49a6e2fb-1af8-455a-b71a-0edf5b7ad04b",
   "metadata": {},
   "outputs": [
    {
     "name": "stdout",
     "output_type": "stream",
     "text": [
      "     A \n",
      "\n",
      "    A B \n",
      "\n",
      "   A B C \n",
      "\n",
      "  A B C D \n",
      "\n",
      " A B C D E \n",
      "\n",
      "  A B C D \n",
      "\n",
      "   A B C \n",
      "\n",
      "    A B \n",
      "\n",
      "     A \n",
      "\n"
     ]
    }
   ],
   "source": [
    "pattern9(5)"
   ]
  },
  {
   "cell_type": "markdown",
   "id": "366845a8-d92f-4e97-ba64-b5dfb2f93cc2",
   "metadata": {},
   "source": [
    "Pattern 10:"
   ]
  },
  {
   "cell_type": "raw",
   "id": "b14da023-9038-4ca7-8e1e-5b7844880c6a",
   "metadata": {},
   "source": [
    "    *\n",
    "   * *\n",
    "  *   *\n",
    " *     *\n",
    "* * * * *\n",
    " *     *\n",
    "  *   *\n",
    "   * *\n",
    "    *"
   ]
  },
  {
   "cell_type": "code",
   "execution_count": 329,
   "id": "443dfa59-e19f-41e7-bea2-3ddbeb436769",
   "metadata": {},
   "outputs": [],
   "source": [
    "def pattern10(n):\n",
    "    for row in range(0,n):\n",
    "        if row==0:\n",
    "            print(\" \"*(n-row-1),end=\"\")\n",
    "            print(\"*\",end=\"\")\n",
    "        elif row==n-1:\n",
    "            print(\"*\"*(2*n-1),end=\"\")\n",
    "        else:\n",
    "            print(\" \"*(n-row-1),end=\"\")\n",
    "            print(\"*\",end=\"\")\n",
    "            print(\" \"*(2*row-1),end=\"\")\n",
    "            print(\"*\",end=\"\")\n",
    "        print(\"\\n\")\n",
    "    for row1 in range(n-1,0,-1):\n",
    "        if row1!=1:\n",
    "            print(\" \"*(n-row1),end=\"\")\n",
    "            print(\"*\",end=\"\")\n",
    "            print(\" \"*(2*row1-3),end=\"\")\n",
    "            print(\"*\",end=\"\")\n",
    "        else:\n",
    "            print(\" \"*(n-row1),end=\"\")\n",
    "            print(\"*\",end=\"\")\n",
    "            \n",
    "        print(\"\\n\")\n",
    "            \n",
    "        "
   ]
  },
  {
   "cell_type": "code",
   "execution_count": 333,
   "id": "c62adbc9-a53c-46b3-b672-35c941128517",
   "metadata": {},
   "outputs": [
    {
     "name": "stdout",
     "output_type": "stream",
     "text": [
      "    *\n",
      "\n",
      "   * *\n",
      "\n",
      "  *   *\n",
      "\n",
      " *     *\n",
      "\n",
      "*********\n",
      "\n",
      " *     *\n",
      "\n",
      "  *   *\n",
      "\n",
      "   * *\n",
      "\n",
      "    *\n",
      "\n"
     ]
    }
   ],
   "source": [
    "pattern10(5)"
   ]
  },
  {
   "cell_type": "code",
   "execution_count": 125,
   "id": "b4a74a04-9ed0-49ba-be06-19740afb5151",
   "metadata": {},
   "outputs": [],
   "source": []
  },
  {
   "cell_type": "code",
   "execution_count": null,
   "id": "e0303d65-270e-45c8-9720-53341e0b9051",
   "metadata": {},
   "outputs": [],
   "source": []
  },
  {
   "cell_type": "code",
   "execution_count": null,
   "id": "75e14e5a-0c85-4a49-8c9c-d10cd9f449b8",
   "metadata": {},
   "outputs": [],
   "source": []
  }
 ],
 "metadata": {
  "kernelspec": {
   "display_name": "Python 3 (ipykernel)",
   "language": "python",
   "name": "python3"
  },
  "language_info": {
   "codemirror_mode": {
    "name": "ipython",
    "version": 3
   },
   "file_extension": ".py",
   "mimetype": "text/x-python",
   "name": "python",
   "nbconvert_exporter": "python",
   "pygments_lexer": "ipython3",
   "version": "3.12.7"
  }
 },
 "nbformat": 4,
 "nbformat_minor": 5
}
